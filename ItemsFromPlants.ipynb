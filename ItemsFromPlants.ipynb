{
  "nbformat": 4,
  "nbformat_minor": 0,
  "metadata": {
    "colab": {
      "name": "ItemsFromPlants.ipynb",
      "provenance": [],
      "collapsed_sections": [],
      "authorship_tag": "ABX9TyOT79gz8ZXj4n1VywB32Vvb",
      "include_colab_link": true
    },
    "kernelspec": {
      "name": "python3",
      "display_name": "Python 3"
    },
    "language_info": {
      "name": "python"
    }
  },
  "cells": [
    {
      "cell_type": "markdown",
      "metadata": {
        "id": "view-in-github",
        "colab_type": "text"
      },
      "source": [
        "<a href=\"https://colab.research.google.com/github/GLopezMUZH/Packing_and_Vehcicle_Routing/blob/main/ItemsFromPlants.ipynb\" target=\"_parent\"><img src=\"https://colab.research.google.com/assets/colab-badge.svg\" alt=\"Open In Colab\"/></a>"
      ]
    },
    {
      "cell_type": "code",
      "metadata": {
        "id": "0Viwvp-oM2QP"
      },
      "source": [
        "from scipy.io import loadmat\n",
        "from scipy.io import savemat\n",
        "import pandas as pd\n",
        "import numpy as np"
      ],
      "execution_count": null,
      "outputs": []
    },
    {
      "cell_type": "code",
      "metadata": {
        "colab": {
          "base_uri": "https://localhost:8080/"
        },
        "id": "EKjQNB15NULQ",
        "outputId": "bde541b8-406f-4af3-8815-2c97f90e6e3e"
      },
      "source": [
        "from google.colab import drive\n",
        "drive.mount('/content/gdrive', force_remount=True)"
      ],
      "execution_count": null,
      "outputs": [
        {
          "output_type": "stream",
          "text": [
            "Mounted at /content/gdrive\n"
          ],
          "name": "stdout"
        }
      ]
    },
    {
      "cell_type": "markdown",
      "metadata": {
        "id": "57wLM-HejPIT"
      },
      "source": [
        "# Knapsack - dynamic programming"
      ]
    },
    {
      "cell_type": "code",
      "metadata": {
        "id": "NktqYi73YChU"
      },
      "source": [
        "# A Dynamic Programming based Python \n",
        "# Program for 0-1 Knapsack problem\n",
        "# code based on snap: https://codereview.stackexchange.com/questions/220450/python-program-for-0-1-knapsack-problem\n",
        "def knapsack(capacity, weights, values):\n",
        "    items = len(weights)\n",
        "\n",
        "    capacity_items_matrix = [[0] * (capacity + 1)]\n",
        "    for item_idx in range(items):\n",
        "        capacity_items_matrix.append(capacity_items_matrix[item_idx].copy())\n",
        "        for k in range(weights[item_idx], capacity + 1):\n",
        "            capacity_items_matrix[item_idx + 1][k] = max(capacity_items_matrix[item_idx][k], capacity_items_matrix[item_idx][k -weights[item_idx]] + values[item_idx])\n",
        "\n",
        "    solution_value = capacity_items_matrix[items][capacity]\n",
        "    solution_weight = 0\n",
        "    taken = []\n",
        "    k = capacity\n",
        "    for item_idx in range(items, 0, -1):\n",
        "        if capacity_items_matrix[item_idx][k] != capacity_items_matrix[item_idx - 1][k]:\n",
        "            taken.append(item_idx - 1)\n",
        "            k -= weights[item_idx - 1]\n",
        "            solution_weight += weights[item_idx - 1]\n",
        "\n",
        "    return solution_value, solution_weight, taken"
      ],
      "execution_count": 11,
      "outputs": []
    },
    {
      "cell_type": "markdown",
      "metadata": {
        "id": "JO_7qV4qju4a"
      },
      "source": [
        "## Utility functions for Knapsack"
      ]
    },
    {
      "cell_type": "code",
      "metadata": {
        "id": "eMGRO_tvbKfY"
      },
      "source": [
        "def convertToIntList(someDict):\n",
        "    w1_arr = []\n",
        "    for element in someDict:\n",
        "        w1_arr.append(element[0])\n",
        "    return w1_arr"
      ],
      "execution_count": 12,
      "outputs": []
    },
    {
      "cell_type": "code",
      "metadata": {
        "id": "BlrI-qJyeFnJ"
      },
      "source": [
        "def printSelectedItems(w_arr, p_arr, selectedIndexes):\n",
        "    plant1_selected_weights = []\n",
        "    plant1_selected_values = []\n",
        "    for i in range(len(w_arr)):\n",
        "        if (i in selectedIndexes):\n",
        "            plant1_selected_weights.append(w_arr[i])\n",
        "            plant1_selected_values.append(p_arr[i])\n",
        "\n",
        "    plant1_selected_weights = np.array(plant1_selected_weights)\n",
        "    plant1_selected_values = np.array(plant1_selected_values)\n",
        "\n",
        "    print(\"Selected weights: \", plant1_selected_weights)\n",
        "    print(\"Sum weights: \", np.sum(plant1_selected_weights))\n",
        "\n",
        "    print(\"Selected values: \",plant1_selected_values)\n",
        "    print(\"Sum values: \", np.sum(plant1_selected_values))"
      ],
      "execution_count": 13,
      "outputs": []
    },
    {
      "cell_type": "code",
      "metadata": {
        "id": "hwYSTEdcLsny"
      },
      "source": [
        "#make the selected items not suitable from w and p arrays\n",
        "def invalidateSelected(w_arr, p_arr, selectedIndexes, excededWeight):\n",
        "    updated_weights = []\n",
        "    updated_values = []\n",
        "    for i in range(len(w_arr)):\n",
        "        if (i not in selectedIndexes):\n",
        "            updated_weights.append(w_arr[i])\n",
        "            updated_values.append(p_arr[i])\n",
        "        else:\n",
        "            updated_weights.append(excededWeight)\n",
        "            updated_values.append(-1)\n",
        "    return updated_weights, updated_values\n"
      ],
      "execution_count": 15,
      "outputs": []
    },
    {
      "cell_type": "markdown",
      "metadata": {
        "id": "7vSWLmCHUCSl"
      },
      "source": [
        "# Bin Packing Problem - Best Fit Decreasing"
      ]
    },
    {
      "cell_type": "code",
      "metadata": {
        "id": "eVxcS6BG5y3k"
      },
      "source": [
        "# Returns number of bins required using best fit online algorithm\n",
        "# code based on https://www.geeksforgeeks.org/bin-packing-problem-minimize-number-of-used-bins/\n",
        "def bestFitDecreasing(unordered_weights, n, c):\n",
        "    \n",
        "    # Sort by weight decreasing\n",
        "    weights = np.sort(unordered_weights)[::-1]\n",
        "\n",
        "    # Initialize result (Count of bins)\n",
        "    res = 0\n",
        " \n",
        "    # Create an array to store\n",
        "    # remaining space in bins\n",
        "    # there can be at most n bins\n",
        "    bin_rem = [0]*n\n",
        "    trucks_items = [[] for i in range(n)]\n",
        "    trucks_items_weights = [[] for i in range(n)]\n",
        " \n",
        "    # Place items one by one\n",
        "    for i in range(n):\n",
        "        #print(\"item i= \", i, \", weight = \", weights[i])\n",
        "\n",
        "        # Find the first bin that can accommodate weights[i]\n",
        "        j = 0\n",
        "         \n",
        "        # Initialize minimum space left and index of best bin\n",
        "        min = c + 1\n",
        "        bi = 0\n",
        " \n",
        "        # loop over trucks and update which is the actual minimum rest space, at the end of the comparison one gets the index (bi) of the truck with the minimum rest place\n",
        "        for j in range(res):\n",
        "            if (bin_rem[j] >= weights[i] and bin_rem[j] - weights[i] < min):\n",
        "                bi = j\n",
        "                min = bin_rem[j] - weights[i]\n",
        "             \n",
        "        # If no bin could accommodate weights[i], create a new bin\n",
        "        if (min == c + 1):\n",
        "            bin_rem[res] = c - weights[i]\n",
        "            #print(\"Create truck. Idx =  \", res, \", item idx = \", i, \", weight = \", weights[i])\n",
        "            trucks_items[res].append(i)\n",
        "            trucks_items_weights[res].append(weights[i])\n",
        "            res += 1\n",
        "        else: # Assign the item to best bin\n",
        "            bin_rem[bi] -= weights[i]\n",
        "            #print(\"Assign to best truck. Idx =  \", bi, \", item idx = \", i, \", weight = \", weights[i])\n",
        "            trucks_items[bi].append(i)\n",
        "            trucks_items_weights[bi].append(weights[i])\n",
        "    return res, trucks_items, trucks_items_weights\n",
        "     \n",
        "# This code is contributed by Rajput-Ji + GLM alterations"
      ],
      "execution_count": 34,
      "outputs": []
    },
    {
      "cell_type": "markdown",
      "metadata": {
        "id": "SpMeRCb2kEni"
      },
      "source": [
        "# Examples"
      ]
    },
    {
      "cell_type": "markdown",
      "metadata": {
        "id": "wf-kLiD1S3EE"
      },
      "source": [
        "## Knapsack problem"
      ]
    },
    {
      "cell_type": "code",
      "metadata": {
        "id": "vNT3SM4lUunH",
        "colab": {
          "base_uri": "https://localhost:8080/"
        },
        "outputId": "5284d63e-e799-4c97-9767-c217f5f29104"
      },
      "source": [
        "# Knapsack example\n",
        "values = [60, 100, 120, 200]\n",
        "weights = [10, 20, 30, 30]\n",
        "capacity = 50\n",
        "items = len(values)\n",
        "\n",
        "print(knapsack(capacity, weights, values))"
      ],
      "execution_count": 16,
      "outputs": [
        {
          "output_type": "stream",
          "text": [
            "(300, 50, [3, 1])\n"
          ],
          "name": "stdout"
        }
      ]
    },
    {
      "cell_type": "markdown",
      "metadata": {
        "id": "CoDteAOLVKm9"
      },
      "source": [
        "## Bin Packing - Best Fit Decreasing"
      ]
    },
    {
      "cell_type": "code",
      "metadata": {
        "colab": {
          "base_uri": "https://localhost:8080/"
        },
        "id": "eDsN11Wc66Ma",
        "outputId": "2707a70b-802b-4677-cd6a-e42ab3eb0302"
      },
      "source": [
        "# 1D Bin-Packing example - Best Fit decreasing\n",
        "weights = [2, 5, 4, 7, 1, 3, 8]\n",
        "c = 10\n",
        "n = len(weights)\n",
        "nr_trucks = 0\n",
        "\n",
        "nr_trucks, trucks_items,trucks_items_weights = bestFitDecreasing(weights, n, c)\n",
        "\n",
        "print(\"Number of bins required in Next Fit :\", nr_trucks)\n",
        "print(\"Item index in truck:       \",trucks_items)\n",
        "print(\"Weights of items in truck: \",trucks_items_weights)"
      ],
      "execution_count": 33,
      "outputs": [
        {
          "output_type": "stream",
          "text": [
            "Number of bins required in Next Fit : 3\n",
            "Item index in truck:        [[0, 5], [1, 4], [2, 3, 6], [], [], [], []]\n",
            "Weights of items in truck:  [[8, 2], [7, 3], [5, 4, 1], [], [], [], []]\n"
          ],
          "name": "stdout"
        }
      ]
    },
    {
      "cell_type": "markdown",
      "metadata": {
        "id": "gQG7S536j1WR"
      },
      "source": [
        "# Ex 4 - Production plants items"
      ]
    },
    {
      "cell_type": "code",
      "metadata": {
        "id": "htnAuF9tNU6f",
        "colab": {
          "base_uri": "https://localhost:8080/"
        },
        "outputId": "6b649508-d124-427c-9926-6ee8c03356fd"
      },
      "source": [
        "# read the input data\n",
        "file1_dir_path = '/content/gdrive/MyDrive/UZH_varios/ETH_L&GV_Ex4/inputDataAssignment.mat'\n",
        "file1_dict = loadmat(file1_dir_path)\n",
        "#print(file1_dict)\n",
        "# print(file1_dict['p3'])\n",
        "\n",
        "W_val = file1_dict.get(\"W\")[0][0]\n",
        "Z_val = file1_dict.get(\"Z\")[0][0]\n",
        "print(\"Weight capacity of each truck: \", W_val)\n",
        "print(\"Cost of renting a truck: \",Z_val)\n",
        "\n",
        "w1_arr = convertToIntList(file1_dict['w1'])\n",
        "w2_arr = convertToIntList(file1_dict['w2'])\n",
        "w3_arr = convertToIntList(file1_dict['w3'])\n",
        "p1_arr = convertToIntList(file1_dict['p1'])\n",
        "p2_arr = convertToIntList(file1_dict['p2'])\n",
        "p3_arr = convertToIntList(file1_dict['p3'])"
      ],
      "execution_count": 17,
      "outputs": [
        {
          "output_type": "stream",
          "text": [
            "Weight capacity of each truck:  100\n",
            "Cost of renting a truck:  32\n"
          ],
          "name": "stdout"
        }
      ]
    },
    {
      "cell_type": "code",
      "metadata": {
        "colab": {
          "base_uri": "https://localhost:8080/"
        },
        "id": "TXazQ2DBceB6",
        "outputId": "e2cc2925-1ab7-4af5-d2aa-881e4912337d"
      },
      "source": [
        "print(len(w3_arr))\n",
        "print(w3_arr)\n",
        "print(len(w3_arr))\n",
        "print(p3_arr)\n"
      ],
      "execution_count": 25,
      "outputs": [
        {
          "output_type": "stream",
          "text": [
            "60\n",
            "[29, 24, 44, 34, 18, 35, 27, 33, 43, 28, 44, 36, 18, 44, 38, 46, 22, 21, 45, 38, 19, 39, 39, 44, 38, 21, 18, 18, 18, 25, 42, 33, 34, 42, 21, 26, 34, 46, 34, 18, 41, 24, 41, 29, 43, 39, 34, 21, 19, 21, 19, 21, 24, 38, 34, 18, 20, 46, 34, 23]\n",
            "60\n",
            "[10.569829603658471, 18.774047423131897, 13.909062593488523, 21.90127299819715, 17.54130583305118, 30.44315684432855, 9.554506072437102, 18.800240485237875, 29.10938150683943, 23.929745409294256, 12.463998159763552, 5.968431786628731, 3.771338798904101, 24.78930714904499, 25.28444161140257, 29.14209119008142, 9.234677054324406, 20.796798356262215, 28.925254636151728, 17.978559875740675, 11.747813738754033, 30.557836384550544, 28.03507041797307, 16.50799145658907, 7.842615152038662, 9.756002932766796, 12.334677857429936, 5.915662351697045, 14.217159972203852, 5.163900228774942, 15.593249019253912, 27.52336551300084, 10.69025076781417, 29.128753447413864, 12.515365017858647, 24.338256145825653, 12.709276667077505, 9.47907864574533, 26.34340633904255, 14.514323852011676, 37.78738245974781, 22.612230211615483, 6.636212318199556, 10.127025422893015, 28.993248948410585, 37.30989103079448, 32.5600898462406, 13.08625940928354, 17.637042548725333, 14.601956829692126, 9.148624583381126, 11.824933407679838, 15.927933851567454, 23.450397864726572, 31.86664323181651, 16.756621565194173, 9.712885419700433, 44.56356486203183, 10.12731876706542, 5.91974210504491]\n"
          ],
          "name": "stdout"
        }
      ]
    },
    {
      "cell_type": "markdown",
      "metadata": {
        "id": "OS7xlXKHJrP5"
      },
      "source": [
        "## Plant 1 - 1DKP"
      ]
    },
    {
      "cell_type": "code",
      "metadata": {
        "colab": {
          "base_uri": "https://localhost:8080/"
        },
        "id": "iC7cL9-hPb1N",
        "outputId": "4f4a9dbc-96e6-4f6f-9961-4e26afd96e8d"
      },
      "source": [
        "# Calculate for plant 1 - one truck\n",
        "plant1 = knapsack(W_val, w1_arr, p1_arr)\n",
        "print(plant1)\n",
        "print(plant1[2])"
      ],
      "execution_count": 19,
      "outputs": [
        {
          "output_type": "stream",
          "text": [
            "(260, 100, [12, 9, 4, 1, 0])\n",
            "[12, 9, 4, 1, 0]\n"
          ],
          "name": "stdout"
        }
      ]
    },
    {
      "cell_type": "code",
      "metadata": {
        "colab": {
          "base_uri": "https://localhost:8080/"
        },
        "id": "uL4rmdp6icPm",
        "outputId": "3eb76c68-8999-4a39-bdf5-4d876b186af8"
      },
      "source": [
        "printSelectedItems(w1_arr, p1_arr, plant1[2])"
      ],
      "execution_count": 20,
      "outputs": [
        {
          "output_type": "stream",
          "text": [
            "Selected weights:  [20 28 13 24 15]\n",
            "Sum weights:  100\n",
            "Selected values:  [48 77 33 61 41]\n",
            "Sum values:  260\n"
          ],
          "name": "stdout"
        }
      ]
    },
    {
      "cell_type": "markdown",
      "metadata": {
        "id": "_VhjqjZcJ58J"
      },
      "source": [
        "## Plant 2- 1DKP in two stages"
      ]
    },
    {
      "cell_type": "code",
      "metadata": {
        "colab": {
          "base_uri": "https://localhost:8080/"
        },
        "id": "PkNBSEzBjjj-",
        "outputId": "ddc2f35a-36f6-4362-b2f5-934c2199ec02"
      },
      "source": [
        "# Calculate for plant 2 - two trucks\n",
        "# solution 2 - calc first truc, reduce arrays, calc 2nd truck\n",
        "plant2_1 = knapsack(W_val, w2_arr, p2_arr)\n",
        "print(plant2_1)"
      ],
      "execution_count": 21,
      "outputs": [
        {
          "output_type": "stream",
          "text": [
            "(204, 98, [24, 20, 9, 3, 1])\n"
          ],
          "name": "stdout"
        }
      ]
    },
    {
      "cell_type": "code",
      "metadata": {
        "colab": {
          "base_uri": "https://localhost:8080/"
        },
        "id": "QWC_-K8mjujw",
        "outputId": "bd46e7f9-7178-4f34-ab85-3df03f6bd740"
      },
      "source": [
        "printSelectedItems(w2_arr, p2_arr, plant2_1[2])"
      ],
      "execution_count": null,
      "outputs": [
        {
          "output_type": "stream",
          "text": [
            "Selected weights:  [29 30 14 13 12]\n",
            "Sum weights:  98\n",
            "Selected values:  [61 61 29 28 25]\n",
            "Sum values:  204\n"
          ],
          "name": "stdout"
        }
      ]
    },
    {
      "cell_type": "code",
      "metadata": {
        "colab": {
          "base_uri": "https://localhost:8080/"
        },
        "id": "ow-ji1o0kmjN",
        "outputId": "5db8b703-ef12-4ce3-81c4-295855c60be9"
      },
      "source": [
        "print(w2_arr)\n",
        "print(p2_arr)\n",
        "n_w2_arr, n_p2_arr = invalidateSelected(w2_arr, p2_arr, plant2_1[2], W_val*10)\n",
        "print(n_w2_arr)\n",
        "print(n_p2_arr)"
      ],
      "execution_count": 23,
      "outputs": [
        {
          "output_type": "stream",
          "text": [
            "[35, 29, 18, 30, 13, 22, 33, 18, 18, 14, 11, 27, 16, 17, 23, 12, 25, 14, 25, 28, 13, 21, 28, 21, 12, 24, 27]\n",
            "[46, 61, 26, 61, 8, 14, 61, 20, 13, 29, 11, 47, 27, 34, 35, 21, 26, 12, 50, 33, 28, 33, 43, 13, 25, 29, 39]\n",
            "[35, 1000, 18, 1000, 13, 22, 33, 18, 18, 1000, 11, 27, 16, 17, 23, 12, 25, 14, 25, 28, 1000, 21, 28, 21, 1000, 24, 27]\n",
            "[46, -1, 26, -1, 8, 14, 61, 20, 13, -1, 11, 47, 27, 34, 35, 21, 26, 12, 50, 33, -1, 33, 43, 13, -1, 29, 39]\n"
          ],
          "name": "stdout"
        }
      ]
    },
    {
      "cell_type": "code",
      "metadata": {
        "colab": {
          "base_uri": "https://localhost:8080/"
        },
        "id": "p3rx4QuO0SpW",
        "outputId": "27204253-924b-46cd-dcb2-237857d7cb7a"
      },
      "source": [
        "plant2_2 = knapsack(W_val, n_w2_arr, n_p2_arr)\n",
        "print(plant2_2)\n",
        "printSelectedItems(n_w2_arr, n_p2_arr, plant2_2[2])"
      ],
      "execution_count": 24,
      "outputs": [
        {
          "output_type": "stream",
          "text": [
            "(180, 98, [18, 14, 13, 6])\n",
            "Selected weights:  [33 17 23 25]\n",
            "Sum weights:  98\n",
            "Selected values:  [61 34 35 50]\n",
            "Sum values:  180\n"
          ],
          "name": "stdout"
        }
      ]
    },
    {
      "cell_type": "markdown",
      "metadata": {
        "id": "41OcbjvsSdj8"
      },
      "source": [
        "## Plant 3 - 1D Bin-Packing Problem"
      ]
    },
    {
      "cell_type": "code",
      "metadata": {
        "colab": {
          "base_uri": "https://localhost:8080/"
        },
        "id": "_TFRWUmD5Pk8",
        "outputId": "717dcf9f-b7ce-4da3-a17f-40444b58a508"
      },
      "source": [
        "## Plant 3 - 1D Bin-Packing Problem \n",
        "# bring all items in as less as possible trucks\n",
        "print(\"Min nr of trucks if continuous (LB): \",np.sum(np.array(w3_arr))/W_val)"
      ],
      "execution_count": 26,
      "outputs": [
        {
          "output_type": "stream",
          "text": [
            "Min nr of trucks if continuous:  18.65\n"
          ],
          "name": "stdout"
        }
      ]
    },
    {
      "cell_type": "code",
      "metadata": {
        "colab": {
          "base_uri": "https://localhost:8080/"
        },
        "id": "YN3IdF1vG2rk",
        "outputId": "a4fba2ce-8c42-4c6e-821e-0f0ffa8374f0"
      },
      "source": [
        "n = len(w3_arr)\n",
        "nr_trucks, trucks_items, trucks_items_weights = bestFitDecreasing(w3_arr, n, W_val)\n",
        "\n",
        "print(\"Number of trucks required :\", nr_trucks)\n",
        "print(trucks_items)\n",
        "print(trucks_items_weights)"
      ],
      "execution_count": 39,
      "outputs": [
        {
          "output_type": "stream",
          "text": [
            "Number of trucks required : 20\n",
            "[[0, 1], [2, 3], [4, 5], [6, 7], [8, 9], [10, 11], [12, 13, 53], [14, 15, 42], [16, 17, 41], [18, 19, 38], [20, 21, 36], [22, 23, 32], [24, 25, 33], [26, 27, 34], [28, 29, 35], [30, 31, 37], [39, 40, 43, 44], [45, 46, 47, 48], [49, 50, 51, 52, 54], [55, 56, 57, 58, 59], [], [], [], [], [], [], [], [], [], [], [], [], [], [], [], [], [], [], [], [], [], [], [], [], [], [], [], [], [], [], [], [], [], [], [], [], [], [], [], []]\n",
            "[[46, 46], [46, 45], [44, 44], [44, 44], [43, 43], [42, 42], [41, 41, 18], [39, 39, 22], [39, 38, 23], [38, 38, 24], [38, 36, 26], [35, 34, 29], [34, 34, 29], [34, 34, 28], [34, 34, 27], [33, 33, 25], [24, 24, 21, 21], [21, 21, 21, 21], [20, 19, 19, 19, 18], [18, 18, 18, 18, 18], [], [], [], [], [], [], [], [], [], [], [], [], [], [], [], [], [], [], [], [], [], [], [], [], [], [], [], [], [], [], [], [], [], [], [], [], [], [], [], []]\n"
          ],
          "name": "stdout"
        }
      ]
    },
    {
      "cell_type": "code",
      "metadata": {
        "colab": {
          "base_uri": "https://localhost:8080/"
        },
        "id": "TYzissztYBsL",
        "outputId": "a7617cd1-8a0a-4fcb-b8c3-9d5d1bdc3e0d"
      },
      "source": [
        "print_truck_item_weights(trucks_items_weights)"
      ],
      "execution_count": 47,
      "outputs": [
        {
          "output_type": "stream",
          "text": [
            "Item weights in each truck: \n",
            "Truck index  0 : [46, 46]\n",
            "Truck index  1 : [46, 45]\n",
            "Truck index  2 : [44, 44]\n",
            "Truck index  3 : [44, 44]\n",
            "Truck index  4 : [43, 43]\n",
            "Truck index  5 : [42, 42]\n",
            "Truck index  6 : [41, 41, 18]\n",
            "Truck index  7 : [39, 39, 22]\n",
            "Truck index  8 : [39, 38, 23]\n",
            "Truck index  9 : [38, 38, 24]\n",
            "Truck index  10 : [38, 36, 26]\n",
            "Truck index  11 : [35, 34, 29]\n",
            "Truck index  12 : [34, 34, 29]\n",
            "Truck index  13 : [34, 34, 28]\n",
            "Truck index  14 : [34, 34, 27]\n",
            "Truck index  15 : [33, 33, 25]\n",
            "Truck index  16 : [24, 24, 21, 21]\n",
            "Truck index  17 : [21, 21, 21, 21]\n",
            "Truck index  18 : [20, 19, 19, 19, 18]\n",
            "Truck index  19 : [18, 18, 18, 18, 18]\n"
          ],
          "name": "stdout"
        }
      ]
    },
    {
      "cell_type": "code",
      "metadata": {
        "id": "WDtQLiFOandV"
      },
      "source": [
        "# map to get the index of the weights\n",
        "def getIndexesForWeights(w_arr):\n",
        "    d = dict(enumerate(np.array(w_arr).flatten(), 0))\n",
        "    return d\n",
        "\n",
        "\n",
        "# returns the index of the items according to the given weights in the trucks\n",
        "def get_item_index_in_trucks(original_weights_arr, nr_trucks, trucks_items_weights):\n",
        "    dict_indexes_weights =  getIndexesForWeights(original_weights_arr)\n",
        "    trucks_items_indexes = [[] for i in range(nr_trucks)]\n",
        "    val_list = list(dict_indexes_weights.values())\n",
        "\n",
        "    truk_index = 0\n",
        "\n",
        "    for ti in trucks_items_weights:\n",
        "        if sum(ti) > 0:\n",
        "            for e in ti:\n",
        "                position = val_list.index(e)\n",
        "                dict_indexes_weights[position] = -1\n",
        "                trucks_items_indexes[truk_index].append(position)\n",
        "                #print(\"truck index = \", truk_index, \", weight = \", e, \", pos_in_array= \", position)\n",
        "                val_list = list(dict_indexes_weights.values())\n",
        "        truk_index += 1\n",
        "    return trucks_items_indexes\n",
        "\n",
        "def print_truck_item_weights(trucks_items_weights):\n",
        "    print(\"Item weights in each truck: \")\n",
        "    i = 0\n",
        "    for ti in trucks_items_weights:\n",
        "        if sum(ti) > 0:\n",
        "            print('Truck index ', i, ':',ti)\n",
        "            i += 1\n",
        "\n"
      ],
      "execution_count": 49,
      "outputs": []
    },
    {
      "cell_type": "code",
      "metadata": {
        "id": "tAT28ebCS8QQ"
      },
      "source": [
        "trucks_items_indexes = get_item_index_in_trucks(w3_arr, nr_trucks, trucks_items_weights)"
      ],
      "execution_count": 50,
      "outputs": []
    },
    {
      "cell_type": "code",
      "metadata": {
        "colab": {
          "base_uri": "https://localhost:8080/"
        },
        "id": "rvyii_9uZoPM",
        "outputId": "3257366f-b4d4-4973-8c2d-2f7461aee1df"
      },
      "source": [
        "trucks_items_indexes"
      ],
      "execution_count": 51,
      "outputs": [
        {
          "output_type": "execute_result",
          "data": {
            "text/plain": [
              "[[15, 37],\n",
              " [57, 18],\n",
              " [2, 10],\n",
              " [13, 23],\n",
              " [8, 44],\n",
              " [30, 33],\n",
              " [40, 42, 4],\n",
              " [21, 22, 16],\n",
              " [45, 14, 59],\n",
              " [19, 24, 1],\n",
              " [53, 11, 35],\n",
              " [5, 3, 0],\n",
              " [32, 36, 43],\n",
              " [38, 46, 9],\n",
              " [54, 58, 6],\n",
              " [7, 31, 29],\n",
              " [41, 52, 17, 25],\n",
              " [34, 47, 49, 51],\n",
              " [56, 20, 48, 50, 12],\n",
              " [26, 27, 28, 39, 55]]"
            ]
          },
          "metadata": {
            "tags": []
          },
          "execution_count": 51
        }
      ]
    },
    {
      "cell_type": "markdown",
      "metadata": {
        "id": "0qfpejieXbD7"
      },
      "source": [
        "# Matlab export"
      ]
    },
    {
      "cell_type": "code",
      "metadata": {
        "colab": {
          "base_uri": "https://localhost:8080/"
        },
        "id": "mFzCRSq0He2J",
        "outputId": "f430f9a8-3de8-44a4-b34e-32df4e488001"
      },
      "source": [
        "pack2_arr = [[] for i in range(2)]\n",
        "\n",
        "pack2_arr[0].append(plant2_1[2])\n",
        "pack2_arr[1].append(plant2_2[2])\n",
        "\n",
        "print(pack2_arr)"
      ],
      "execution_count": null,
      "outputs": [
        {
          "output_type": "stream",
          "text": [
            "[[[24, 20, 9, 3, 1]], [[15, 11, 10, 4]]]\n"
          ],
          "name": "stdout"
        }
      ]
    },
    {
      "cell_type": "code",
      "metadata": {
        "colab": {
          "base_uri": "https://localhost:8080/"
        },
        "id": "jFNyomSEi4kQ",
        "outputId": "804fc1e1-70c6-4ebf-cd55-1e936107445d"
      },
      "source": [
        "# save to matlab\n",
        "mdic = {\"pack1\" : np.array(plant1[2]), \"pack2\" : pack2_arr,  \"pack3\" : pack3_arr}\n",
        "print(mdic)"
      ],
      "execution_count": null,
      "outputs": [
        {
          "output_type": "stream",
          "text": [
            "{'pack1': array([12,  9,  4,  1,  0]), 'pack2': [[[24, 20, 9, 3, 1]], [[15, 11, 10, 4]]], 'pack3': [[array([15, 37])], [array([57, 18])], [array([ 2, 10])], [array([13, 23])], [array([ 8, 44])], [array([30, 33])], [array([40, 42,  4])], [array([21, 22, 16])], [array([45, 14, 59])], [array([19, 24,  1])], [array([53, 11, 35])], [array([5, 3, 0])], [array([32, 36, 43])], [array([38, 46,  9])], [array([54, 58,  6])], [array([ 7, 31, 29])], [array([41, 52, 17, 25])], [array([34, 47, 49, 51])], [array([56, 20, 48, 50, 12])], [array([26, 27, 28, 39, 55])]]}\n"
          ],
          "name": "stdout"
        }
      ]
    },
    {
      "cell_type": "code",
      "metadata": {
        "colab": {
          "base_uri": "https://localhost:8080/"
        },
        "id": "ysr_2404kgjw",
        "outputId": "452fe130-187e-4021-af51-aa406e54fa16"
      },
      "source": [
        "target_file_path = '/content/gdrive/MyDrive/UZH_varios/ETH_L&GV_Ex4/solutionGroup1.mat'\n",
        "savemat(target_file_path, mdic)"
      ],
      "execution_count": null,
      "outputs": [
        {
          "output_type": "stream",
          "text": [
            "/usr/local/lib/python3.7/dist-packages/numpy/core/_asarray.py:136: VisibleDeprecationWarning: Creating an ndarray from ragged nested sequences (which is a list-or-tuple of lists-or-tuples-or ndarrays with different lengths or shapes) is deprecated. If you meant to do this, you must specify 'dtype=object' when creating the ndarray\n",
            "  return array(a, dtype, copy=False, order=order, subok=True)\n"
          ],
          "name": "stderr"
        }
      ]
    }
  ]
}