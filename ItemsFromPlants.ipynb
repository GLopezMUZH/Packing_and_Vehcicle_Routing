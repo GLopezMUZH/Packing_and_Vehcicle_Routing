{
  "nbformat": 4,
  "nbformat_minor": 0,
  "metadata": {
    "colab": {
      "name": "ItemsFromPlants.ipynb",
      "provenance": [],
      "collapsed_sections": [],
      "authorship_tag": "ABX9TyPVLpbjTb+tV2W3qhZYq+nz",
      "include_colab_link": true
    },
    "kernelspec": {
      "name": "python3",
      "display_name": "Python 3"
    },
    "language_info": {
      "name": "python"
    }
  },
  "cells": [
    {
      "cell_type": "markdown",
      "metadata": {
        "id": "view-in-github",
        "colab_type": "text"
      },
      "source": [
        "<a href=\"https://colab.research.google.com/github/GLopezMUZH/Packing_and_Vehcicle_Routing/blob/main/ItemsFromPlants.ipynb\" target=\"_parent\"><img src=\"https://colab.research.google.com/assets/colab-badge.svg\" alt=\"Open In Colab\"/></a>"
      ]
    },
    {
      "cell_type": "code",
      "metadata": {
        "id": "0Viwvp-oM2QP"
      },
      "source": [
        "from scipy.io import loadmat\n",
        "from scipy.io import savemat\n",
        "import pandas as pd\n",
        "import numpy as np"
      ],
      "execution_count": null,
      "outputs": []
    },
    {
      "cell_type": "code",
      "metadata": {
        "colab": {
          "base_uri": "https://localhost:8080/"
        },
        "id": "EKjQNB15NULQ",
        "outputId": "bde541b8-406f-4af3-8815-2c97f90e6e3e"
      },
      "source": [
        "from google.colab import drive\n",
        "drive.mount('/content/gdrive', force_remount=True)"
      ],
      "execution_count": null,
      "outputs": [
        {
          "output_type": "stream",
          "text": [
            "Mounted at /content/gdrive\n"
          ],
          "name": "stdout"
        }
      ]
    },
    {
      "cell_type": "markdown",
      "metadata": {
        "id": "57wLM-HejPIT"
      },
      "source": [
        "# Knapsack - dynamic programming"
      ]
    },
    {
      "cell_type": "code",
      "metadata": {
        "id": "NktqYi73YChU"
      },
      "source": [
        "# A Dynamic Programming based Python \n",
        "# Program for 0-1 Knapsack problem\n",
        "# code based on snap: https://codereview.stackexchange.com/questions/220450/python-program-for-0-1-knapsack-problem\n",
        "def knapsack(capacity, weights, values):\n",
        "    items = len(weights)\n",
        "\n",
        "    capacity_items_matrix = [[0] * (capacity + 1)]\n",
        "    for item_idx in range(items):\n",
        "        capacity_items_matrix.append(capacity_items_matrix[item_idx].copy())\n",
        "        for k in range(weights[item_idx], capacity + 1):\n",
        "            capacity_items_matrix[item_idx + 1][k] = max(capacity_items_matrix[item_idx][k], capacity_items_matrix[item_idx][k -weights[item_idx]] + values[item_idx])\n",
        "\n",
        "    solution_value = capacity_items_matrix[items][capacity]\n",
        "    solution_weight = 0\n",
        "    taken = []\n",
        "    k = capacity\n",
        "    for item_idx in range(items, 0, -1):\n",
        "        if capacity_items_matrix[item_idx][k] != capacity_items_matrix[item_idx - 1][k]:\n",
        "            taken.append(item_idx - 1)\n",
        "            k -= weights[item_idx - 1]\n",
        "            solution_weight += weights[item_idx - 1]\n",
        "\n",
        "    return solution_value, solution_weight, taken"
      ],
      "execution_count": null,
      "outputs": []
    },
    {
      "cell_type": "markdown",
      "metadata": {
        "id": "JO_7qV4qju4a"
      },
      "source": [
        "# Utility functions"
      ]
    },
    {
      "cell_type": "code",
      "metadata": {
        "id": "eMGRO_tvbKfY"
      },
      "source": [
        "def convertToIntList(someDict):\n",
        "    w1_arr = []\n",
        "    for element in someDict:\n",
        "        w1_arr.append(element[0])\n",
        "    return w1_arr"
      ],
      "execution_count": null,
      "outputs": []
    },
    {
      "cell_type": "code",
      "metadata": {
        "id": "BlrI-qJyeFnJ"
      },
      "source": [
        "def printSelectedItems(w_arr, p_arr, selectedIndexes):\n",
        "    plant1_selected_weights = []\n",
        "    plant1_selected_values = []\n",
        "    for i in range(len(w_arr)):\n",
        "        if (i in selectedIndexes):\n",
        "            plant1_selected_weights.append(w_arr[i])\n",
        "            plant1_selected_values.append(p_arr[i])\n",
        "\n",
        "    plant1_selected_weights = np.array(plant1_selected_weights)\n",
        "    plant1_selected_values = np.array(plant1_selected_values)\n",
        "\n",
        "    print(\"Selected weights: \", plant1_selected_weights)\n",
        "    print(\"Sum weights: \", np.sum(plant1_selected_weights))\n",
        "\n",
        "    print(\"Selected values: \",plant1_selected_values)\n",
        "    print(\"Sum values: \", np.sum(plant1_selected_values))"
      ],
      "execution_count": null,
      "outputs": []
    },
    {
      "cell_type": "code",
      "metadata": {
        "id": "Oo1Ku7EBj2f9"
      },
      "source": [
        "#remove from w and p arrays\n",
        "def removeSelected(w_arr, p_arr, selectedIndexes):\n",
        "    remaining_weights = []\n",
        "    remaining_values = []\n",
        "    for i in range(len(w_arr)):\n",
        "        if (i not in selectedIndexes):\n",
        "            remaining_weights.append(w_arr[i])\n",
        "            remaining_values.append(p_arr[i])\n",
        "    return remaining_weights, remaining_values\n"
      ],
      "execution_count": null,
      "outputs": []
    },
    {
      "cell_type": "markdown",
      "metadata": {
        "id": "SpMeRCb2kEni"
      },
      "source": [
        "# Knapsack example"
      ]
    },
    {
      "cell_type": "code",
      "metadata": {
        "id": "vNT3SM4lUunH",
        "colab": {
          "base_uri": "https://localhost:8080/"
        },
        "outputId": "3c665999-7812-4729-c60c-44968104cb2e"
      },
      "source": [
        "values = [60, 100, 120, 200]\n",
        "weights = [10, 20, 30, 30]\n",
        "capacity = 50\n",
        "items = len(values)\n",
        "\n",
        "print(knapsack(capacity, weights, values))"
      ],
      "execution_count": null,
      "outputs": [
        {
          "output_type": "stream",
          "text": [
            "(300, 50, [3, 1])\n"
          ],
          "name": "stdout"
        }
      ]
    },
    {
      "cell_type": "markdown",
      "metadata": {
        "id": "gQG7S536j1WR"
      },
      "source": [
        "# Ex 4 - Production plants items"
      ]
    },
    {
      "cell_type": "code",
      "metadata": {
        "id": "htnAuF9tNU6f",
        "colab": {
          "base_uri": "https://localhost:8080/"
        },
        "outputId": "0de26f29-a8ba-48d2-bd0a-663ebc7b7939"
      },
      "source": [
        "# read the input data\n",
        "file1_dir_path = '/content/gdrive/MyDrive/UZH_varios/ETH_L&GV_Ex4/inputDataAssignment.mat'\n",
        "file1_dict = loadmat(file1_dir_path)\n",
        "#print(file1_dict)\n",
        "# print(file1_dict['p3'])\n",
        "\n",
        "W_val = file1_dict.get(\"W\")[0][0]\n",
        "Z_val = file1_dict.get(\"Z\")[0][0]\n",
        "print(\"Weight capacity of each truck: \", W_val)\n",
        "print(\"Cost of renting a truck: \",Z_val)\n",
        "\n",
        "w1_arr = convertToIntList(file1_dict['w1'])\n",
        "w2_arr = convertToIntList(file1_dict['w2'])\n",
        "w3_arr = convertToIntList(file1_dict['w3'])\n",
        "p1_arr = convertToIntList(file1_dict['p1'])\n",
        "p2_arr = convertToIntList(file1_dict['p2'])\n",
        "p3_arr = convertToIntList(file1_dict['p3'])"
      ],
      "execution_count": null,
      "outputs": [
        {
          "output_type": "stream",
          "text": [
            "Weight capacity of each truck:  100\n",
            "Cost of renting a truck:  32\n"
          ],
          "name": "stdout"
        }
      ]
    },
    {
      "cell_type": "code",
      "metadata": {
        "colab": {
          "base_uri": "https://localhost:8080/"
        },
        "id": "TXazQ2DBceB6",
        "outputId": "a74e9e35-4714-4717-da9d-8860777a660b"
      },
      "source": [
        "print(w3_arr)\n",
        "print(p3_arr)\n"
      ],
      "execution_count": null,
      "outputs": [
        {
          "output_type": "stream",
          "text": [
            "[29, 24, 44, 34, 18, 35, 27, 33, 43, 28, 44, 36, 18, 44, 38, 46, 22, 21, 45, 38, 19, 39, 39, 44, 38, 21, 18, 18, 18, 25, 42, 33, 34, 42, 21, 26, 34, 46, 34, 18, 41, 24, 41, 29, 43, 39, 34, 21, 19, 21, 19, 21, 24, 38, 34, 18, 20, 46, 34, 23]\n",
            "[10.569829603658471, 18.774047423131897, 13.909062593488523, 21.90127299819715, 17.54130583305118, 30.44315684432855, 9.554506072437102, 18.800240485237875, 29.10938150683943, 23.929745409294256, 12.463998159763552, 5.968431786628731, 3.771338798904101, 24.78930714904499, 25.28444161140257, 29.14209119008142, 9.234677054324406, 20.796798356262215, 28.925254636151728, 17.978559875740675, 11.747813738754033, 30.557836384550544, 28.03507041797307, 16.50799145658907, 7.842615152038662, 9.756002932766796, 12.334677857429936, 5.915662351697045, 14.217159972203852, 5.163900228774942, 15.593249019253912, 27.52336551300084, 10.69025076781417, 29.128753447413864, 12.515365017858647, 24.338256145825653, 12.709276667077505, 9.47907864574533, 26.34340633904255, 14.514323852011676, 37.78738245974781, 22.612230211615483, 6.636212318199556, 10.127025422893015, 28.993248948410585, 37.30989103079448, 32.5600898462406, 13.08625940928354, 17.637042548725333, 14.601956829692126, 9.148624583381126, 11.824933407679838, 15.927933851567454, 23.450397864726572, 31.86664323181651, 16.756621565194173, 9.712885419700433, 44.56356486203183, 10.12731876706542, 5.91974210504491]\n"
          ],
          "name": "stdout"
        }
      ]
    },
    {
      "cell_type": "markdown",
      "metadata": {
        "id": "OS7xlXKHJrP5"
      },
      "source": [
        "## Plant 1 - 1DKP"
      ]
    },
    {
      "cell_type": "code",
      "metadata": {
        "colab": {
          "base_uri": "https://localhost:8080/"
        },
        "id": "iC7cL9-hPb1N",
        "outputId": "523af271-9afc-451a-8e26-65e6853576ab"
      },
      "source": [
        "# Calculate for plant 1 - one truck\n",
        "plant1 = knapsack(W_val, w1_arr, p1_arr)\n",
        "print(plant1)\n",
        "print(plant1[2])"
      ],
      "execution_count": null,
      "outputs": [
        {
          "output_type": "stream",
          "text": [
            "(260, 100, [12, 9, 4, 1, 0])\n",
            "[12, 9, 4, 1, 0]\n"
          ],
          "name": "stdout"
        }
      ]
    },
    {
      "cell_type": "code",
      "metadata": {
        "colab": {
          "base_uri": "https://localhost:8080/"
        },
        "id": "uL4rmdp6icPm",
        "outputId": "4b7ee8b2-5506-40f5-c301-0df5d6cc923b"
      },
      "source": [
        "printSelectedItems(w1_arr, p1_arr, plant1[2])"
      ],
      "execution_count": null,
      "outputs": [
        {
          "output_type": "stream",
          "text": [
            "Selected weights:  [20 28 13 24 15]\n",
            "Sum weights:  100\n",
            "Selected values:  [48 77 33 61 41]\n",
            "Sum values:  260\n"
          ],
          "name": "stdout"
        }
      ]
    },
    {
      "cell_type": "markdown",
      "metadata": {
        "id": "_VhjqjZcJ58J"
      },
      "source": [
        "## Plant 2- 1DKP in two stages"
      ]
    },
    {
      "cell_type": "code",
      "metadata": {
        "colab": {
          "base_uri": "https://localhost:8080/"
        },
        "id": "PkNBSEzBjjj-",
        "outputId": "e6556b34-d222-421e-de6e-d9aef7b7ebfb"
      },
      "source": [
        "# Calculate for plant 2 - two trucks\n",
        "# solution 2 - calc first truc, reduce arrays, calc 2nd truck\n",
        "plant2_1 = knapsack(W_val, w2_arr, p2_arr)\n",
        "print(plant2_1)"
      ],
      "execution_count": null,
      "outputs": [
        {
          "output_type": "stream",
          "text": [
            "(204, 98, [24, 20, 9, 3, 1])\n"
          ],
          "name": "stdout"
        }
      ]
    },
    {
      "cell_type": "code",
      "metadata": {
        "colab": {
          "base_uri": "https://localhost:8080/"
        },
        "id": "QWC_-K8mjujw",
        "outputId": "bd46e7f9-7178-4f34-ab85-3df03f6bd740"
      },
      "source": [
        "printSelectedItems(w2_arr, p2_arr, plant2_1[2])"
      ],
      "execution_count": null,
      "outputs": [
        {
          "output_type": "stream",
          "text": [
            "Selected weights:  [29 30 14 13 12]\n",
            "Sum weights:  98\n",
            "Selected values:  [61 61 29 28 25]\n",
            "Sum values:  204\n"
          ],
          "name": "stdout"
        }
      ]
    },
    {
      "cell_type": "code",
      "metadata": {
        "colab": {
          "base_uri": "https://localhost:8080/"
        },
        "id": "ow-ji1o0kmjN",
        "outputId": "6f45e519-5dfa-46c2-8894-9495941d473f"
      },
      "source": [
        "print(w2_arr)\n",
        "print(p2_arr)\n",
        "n_w2_arr, n_p2_arr = removeSelected(w2_arr, p2_arr, plant2_1[2])\n",
        "print(n_w2_arr)\n",
        "print(n_p2_arr)"
      ],
      "execution_count": null,
      "outputs": [
        {
          "output_type": "stream",
          "text": [
            "[35, 29, 18, 30, 13, 22, 33, 18, 18, 14, 11, 27, 16, 17, 23, 12, 25, 14, 25, 28, 13, 21, 28, 21, 12, 24, 27]\n",
            "[46, 61, 26, 61, 8, 14, 61, 20, 13, 29, 11, 47, 27, 34, 35, 21, 26, 12, 50, 33, 28, 33, 43, 13, 25, 29, 39]\n",
            "[35, 18, 13, 22, 33, 18, 18, 11, 27, 16, 17, 23, 12, 25, 14, 25, 28, 21, 28, 21, 24, 27]\n",
            "[46, 26, 8, 14, 61, 20, 13, 11, 47, 27, 34, 35, 21, 26, 12, 50, 33, 33, 43, 13, 29, 39]\n"
          ],
          "name": "stdout"
        }
      ]
    },
    {
      "cell_type": "code",
      "metadata": {
        "colab": {
          "base_uri": "https://localhost:8080/"
        },
        "id": "p3rx4QuO0SpW",
        "outputId": "23842ab7-0365-4119-e52d-325fce239774"
      },
      "source": [
        "plant2_2 = knapsack(W_val, n_w2_arr, n_p2_arr)\n",
        "print(plant2_2)\n",
        "printSelectedItems(n_w2_arr, n_p2_arr, plant2_2[2])"
      ],
      "execution_count": null,
      "outputs": [
        {
          "output_type": "stream",
          "text": [
            "(180, 98, [15, 11, 10, 4])\n",
            "Selected weights:  [33 17 23 25]\n",
            "Sum weights:  98\n",
            "Selected values:  [61 34 35 50]\n",
            "Sum values:  180\n"
          ],
          "name": "stdout"
        }
      ]
    },
    {
      "cell_type": "code",
      "metadata": {
        "colab": {
          "base_uri": "https://localhost:8080/"
        },
        "id": "_TFRWUmD5Pk8",
        "outputId": "a79dc001-d268-4611-9726-1ee1c4f38669"
      },
      "source": [
        "## Plant 3 - 1D Bin-Packing Problem \n",
        "# bring all items in as less as possible trucks\n",
        "print(\"Min nr of trucks if continuous: \",np.sum(np.array(w3_arr))/W_val)"
      ],
      "execution_count": null,
      "outputs": [
        {
          "output_type": "stream",
          "text": [
            "Min nr of trucks if continuous:  18.65\n"
          ],
          "name": "stdout"
        }
      ]
    },
    {
      "cell_type": "code",
      "metadata": {
        "id": "eVxcS6BG5y3k"
      },
      "source": [
        "# Returns number of bins required using best fit online algorithm\n",
        "# code based on https://www.geeksforgeeks.org/bin-packing-problem-minimize-number-of-used-bins/\n",
        "def bestFit(weight, n, c):\n",
        "     \n",
        "    # Initialize result (Count of bins)\n",
        "    res = 0\n",
        " \n",
        "    # Create an array to store\n",
        "    # remaining space in bins\n",
        "    # there can be at most n bins\n",
        "    bin_rem = [0]*n\n",
        "    trucks_items = [[] for i in range(n)]\n",
        "    trucks_items_weights = [[] for i in range(n)]\n",
        " \n",
        "    # Place items one by one\n",
        "    for i in range(n):\n",
        "        #print(\"item i= \", i, \", weight = \", weight[i])\n",
        "\n",
        "        # Find the first bin that can accommodate weight[i]\n",
        "        j = 0\n",
        "         \n",
        "        # Initialize minimum space left and index of best bin\n",
        "        min = c + 1\n",
        "        bi = 0\n",
        " \n",
        "        # loop over trucks and update which is the actual minimum rest space, at the end of the comparison one gets the index (bi) of the truck with the minimum rest place\n",
        "        for j in range(res):\n",
        "            if (bin_rem[j] >= weight[i] and bin_rem[j] - weight[i] < min):\n",
        "                bi = j\n",
        "                min = bin_rem[j] - weight[i]\n",
        "             \n",
        "        # If no bin could accommodate weight[i], create a new bin\n",
        "        if (min == c + 1):\n",
        "            bin_rem[res] = c - weight[i]\n",
        "            #print(\"Create truck. Idx =  \", res, \", item idx = \", i, \", weight = \", weight[i])\n",
        "            trucks_items[res].append(i)\n",
        "            trucks_items_weights[res].append(weight[i])\n",
        "            res += 1\n",
        "        else: # Assign the item to best bin\n",
        "            bin_rem[bi] -= weight[i]\n",
        "            #print(\"Assign to best truck. Idx =  \", bi, \", item idx = \", i, \", weight = \", weight[i])\n",
        "            trucks_items[bi].append(i)\n",
        "            trucks_items_weights[bi].append(weight[i])\n",
        "    return res, trucks_items, trucks_items_weights\n",
        "     \n",
        "# This code is contributed by Rajput-Ji + GLM alterations"
      ],
      "execution_count": null,
      "outputs": []
    },
    {
      "cell_type": "code",
      "metadata": {
        "colab": {
          "base_uri": "https://localhost:8080/"
        },
        "id": "eDsN11Wc66Ma",
        "outputId": "30061060-ba9a-4191-b6f6-d151659d398f"
      },
      "source": [
        "# Driver Code\n",
        "weight = [2, 5, 4, 7, 1, 3, 8]\n",
        "c = 10\n",
        "n = len(weight)\n",
        "nr_trucks = 0\n",
        "\n",
        "#nr_trucks, trucks_items = bestFit(weight, n, c)\n",
        "\n",
        "#print(\"Number of bins required in Next Fit :\", nr_trucks)\n",
        "#print(trucks_items)\n",
        "\n",
        "\n",
        "w_sort = np.sort(weight)[::-1]\n",
        "print(w_sort)\n",
        "nr_trucks, trucks_items,trucks_items_weights = bestFit(w_sort, n, c)\n",
        "\n",
        "print(\"Number of bins required in Next Fit :\",\n",
        "                           nr_trucks)\n",
        "print(trucks_items)\n",
        "print(trucks_items_weights)"
      ],
      "execution_count": null,
      "outputs": [
        {
          "output_type": "stream",
          "text": [
            "[8 7 5 4 3 2 1]\n",
            "Number of bins required in Next Fit : 3\n",
            "[[0, 5], [1, 4], [2, 3, 6], [], [], [], []]\n",
            "[[8, 2], [7, 3], [5, 4, 1], [], [], [], []]\n"
          ],
          "name": "stdout"
        }
      ]
    },
    {
      "cell_type": "code",
      "metadata": {
        "colab": {
          "base_uri": "https://localhost:8080/"
        },
        "id": "YN3IdF1vG2rk",
        "outputId": "b58fc0b2-8766-460d-95b5-2b2bc91276cd"
      },
      "source": [
        "w3_sort = np.sort(w3_arr)[::-1]\n",
        "print(w3_sort)\n",
        "n = len(w3_sort)\n",
        "nr_trucks, trucks_items, trucks_items_weights = bestFit(w3_sort, n, W_val)\n",
        "\n",
        "print(\"Number of bins required in Next Fit :\", nr_trucks)\n",
        "print(trucks_items)\n",
        "print(trucks_items_weights)"
      ],
      "execution_count": null,
      "outputs": [
        {
          "output_type": "stream",
          "text": [
            "[46 46 46 45 44 44 44 44 43 43 42 42 41 41 39 39 39 38 38 38 38 36 35 34\n",
            " 34 34 34 34 34 34 33 33 29 29 28 27 26 25 24 24 24 23 22 21 21 21 21 21\n",
            " 21 20 19 19 19 18 18 18 18 18 18 18]\n",
            "Number of bins required in Next Fit : 20\n",
            "[[0, 1], [2, 3], [4, 5], [6, 7], [8, 9], [10, 11], [12, 13, 53], [14, 15, 42], [16, 17, 41], [18, 19, 38], [20, 21, 36], [22, 23, 32], [24, 25, 33], [26, 27, 34], [28, 29, 35], [30, 31, 37], [39, 40, 43, 44], [45, 46, 47, 48], [49, 50, 51, 52, 54], [55, 56, 57, 58, 59], [], [], [], [], [], [], [], [], [], [], [], [], [], [], [], [], [], [], [], [], [], [], [], [], [], [], [], [], [], [], [], [], [], [], [], [], [], [], [], []]\n",
            "[[46, 46], [46, 45], [44, 44], [44, 44], [43, 43], [42, 42], [41, 41, 18], [39, 39, 22], [39, 38, 23], [38, 38, 24], [38, 36, 26], [35, 34, 29], [34, 34, 29], [34, 34, 28], [34, 34, 27], [33, 33, 25], [24, 24, 21, 21], [21, 21, 21, 21], [20, 19, 19, 19, 18], [18, 18, 18, 18, 18], [], [], [], [], [], [], [], [], [], [], [], [], [], [], [], [], [], [], [], [], [], [], [], [], [], [], [], [], [], [], [], [], [], [], [], [], [], [], [], []]\n"
          ],
          "name": "stdout"
        }
      ]
    },
    {
      "cell_type": "code",
      "metadata": {
        "id": "Y_nX2JhQUgDZ"
      },
      "source": [
        "def getIndexesForWeights(w_arr):\n",
        "    d = dict(enumerate(np.array(w_arr).flatten(), 0))\n",
        "    return d\n"
      ],
      "execution_count": null,
      "outputs": []
    },
    {
      "cell_type": "code",
      "metadata": {
        "id": "WDtQLiFOandV"
      },
      "source": [
        "dict_indexes_weights =  getIndexesForWeights(w3_arr)\n",
        "trucks_items_indexes = [[] for i in range(nr_trucks)]\n",
        "val_list = list(dict_indexes_weights.values())\n",
        "\n",
        "truk_index = 0\n",
        "\n",
        "for ti in trucks_items_weights:\n",
        "    if sum(ti) > 0:\n",
        "        for e in ti:\n",
        "            position = val_list.index(e)\n",
        "            dict_indexes_weights[position] = -1\n",
        "            trucks_items_indexes[truk_index].append(position)\n",
        "            #print(\"truck index = \", truk_index, \", weight = \", e, \", pos_in_array= \", position)\n",
        "            val_list = list(dict_indexes_weights.values())\n",
        "    truk_index += 1"
      ],
      "execution_count": null,
      "outputs": []
    },
    {
      "cell_type": "code",
      "metadata": {
        "colab": {
          "base_uri": "https://localhost:8080/"
        },
        "id": "tAT28ebCS8QQ",
        "outputId": "42d8e085-385a-402f-fcd8-2d8b5e72d7bc"
      },
      "source": [
        "for ti in trucks_items_weights:\n",
        "    if sum(ti) > 0:\n",
        "        print(ti)\n"
      ],
      "execution_count": null,
      "outputs": [
        {
          "output_type": "stream",
          "text": [
            "[46, 46]\n",
            "[46, 45]\n",
            "[44, 44]\n",
            "[44, 44]\n",
            "[43, 43]\n",
            "[42, 42]\n",
            "[41, 41, 18]\n",
            "[39, 39, 22]\n",
            "[39, 38, 23]\n",
            "[38, 38, 24]\n",
            "[38, 36, 26]\n",
            "[35, 34, 29]\n",
            "[34, 34, 29]\n",
            "[34, 34, 28]\n",
            "[34, 34, 27]\n",
            "[33, 33, 25]\n",
            "[24, 24, 21, 21]\n",
            "[21, 21, 21, 21]\n",
            "[20, 19, 19, 19, 18]\n",
            "[18, 18, 18, 18, 18]\n"
          ],
          "name": "stdout"
        }
      ]
    },
    {
      "cell_type": "code",
      "metadata": {
        "colab": {
          "base_uri": "https://localhost:8080/"
        },
        "id": "H6laHTYae42M",
        "outputId": "fe4698e2-4561-43a1-d0b4-b08d4250f664"
      },
      "source": [
        "pack3_arr = [[] for i in range(len(trucks_items_indexes))]\n",
        "\n",
        "i = 0\n",
        "for ti in trucks_items_indexes:\n",
        "    #if sum(ti) > 0:\n",
        "    print(ti)\n",
        "    pack3_arr[i].append(np.array(ti))\n",
        "    i += 1\n",
        "\n",
        "print(pack3_arr)"
      ],
      "execution_count": null,
      "outputs": [
        {
          "output_type": "stream",
          "text": [
            "[15, 37]\n",
            "[57, 18]\n",
            "[2, 10]\n",
            "[13, 23]\n",
            "[8, 44]\n",
            "[30, 33]\n",
            "[40, 42, 4]\n",
            "[21, 22, 16]\n",
            "[45, 14, 59]\n",
            "[19, 24, 1]\n",
            "[53, 11, 35]\n",
            "[5, 3, 0]\n",
            "[32, 36, 43]\n",
            "[38, 46, 9]\n",
            "[54, 58, 6]\n",
            "[7, 31, 29]\n",
            "[41, 52, 17, 25]\n",
            "[34, 47, 49, 51]\n",
            "[56, 20, 48, 50, 12]\n",
            "[26, 27, 28, 39, 55]\n",
            "[[array([15, 37])], [array([57, 18])], [array([ 2, 10])], [array([13, 23])], [array([ 8, 44])], [array([30, 33])], [array([40, 42,  4])], [array([21, 22, 16])], [array([45, 14, 59])], [array([19, 24,  1])], [array([53, 11, 35])], [array([5, 3, 0])], [array([32, 36, 43])], [array([38, 46,  9])], [array([54, 58,  6])], [array([ 7, 31, 29])], [array([41, 52, 17, 25])], [array([34, 47, 49, 51])], [array([56, 20, 48, 50, 12])], [array([26, 27, 28, 39, 55])]]\n"
          ],
          "name": "stdout"
        }
      ]
    },
    {
      "cell_type": "code",
      "metadata": {
        "colab": {
          "base_uri": "https://localhost:8080/"
        },
        "id": "mFzCRSq0He2J",
        "outputId": "f430f9a8-3de8-44a4-b34e-32df4e488001"
      },
      "source": [
        "pack2_arr = [[] for i in range(2)]\n",
        "\n",
        "pack2_arr[0].append(plant2_1[2])\n",
        "pack2_arr[1].append(plant2_2[2])\n",
        "\n",
        "print(pack2_arr)"
      ],
      "execution_count": null,
      "outputs": [
        {
          "output_type": "stream",
          "text": [
            "[[[24, 20, 9, 3, 1]], [[15, 11, 10, 4]]]\n"
          ],
          "name": "stdout"
        }
      ]
    },
    {
      "cell_type": "code",
      "metadata": {
        "colab": {
          "base_uri": "https://localhost:8080/"
        },
        "id": "jFNyomSEi4kQ",
        "outputId": "804fc1e1-70c6-4ebf-cd55-1e936107445d"
      },
      "source": [
        "# save to matlab\n",
        "mdic = {\"pack1\" : np.array(plant1[2]), \"pack2\" : pack2_arr,  \"pack3\" : pack3_arr}\n",
        "print(mdic)"
      ],
      "execution_count": null,
      "outputs": [
        {
          "output_type": "stream",
          "text": [
            "{'pack1': array([12,  9,  4,  1,  0]), 'pack2': [[[24, 20, 9, 3, 1]], [[15, 11, 10, 4]]], 'pack3': [[array([15, 37])], [array([57, 18])], [array([ 2, 10])], [array([13, 23])], [array([ 8, 44])], [array([30, 33])], [array([40, 42,  4])], [array([21, 22, 16])], [array([45, 14, 59])], [array([19, 24,  1])], [array([53, 11, 35])], [array([5, 3, 0])], [array([32, 36, 43])], [array([38, 46,  9])], [array([54, 58,  6])], [array([ 7, 31, 29])], [array([41, 52, 17, 25])], [array([34, 47, 49, 51])], [array([56, 20, 48, 50, 12])], [array([26, 27, 28, 39, 55])]]}\n"
          ],
          "name": "stdout"
        }
      ]
    },
    {
      "cell_type": "code",
      "metadata": {
        "colab": {
          "base_uri": "https://localhost:8080/"
        },
        "id": "ysr_2404kgjw",
        "outputId": "452fe130-187e-4021-af51-aa406e54fa16"
      },
      "source": [
        "target_file_path = '/content/gdrive/MyDrive/UZH_varios/ETH_L&GV_Ex4/solutionGroup1.mat'\n",
        "savemat(target_file_path, mdic)"
      ],
      "execution_count": null,
      "outputs": [
        {
          "output_type": "stream",
          "text": [
            "/usr/local/lib/python3.7/dist-packages/numpy/core/_asarray.py:136: VisibleDeprecationWarning: Creating an ndarray from ragged nested sequences (which is a list-or-tuple of lists-or-tuples-or ndarrays with different lengths or shapes) is deprecated. If you meant to do this, you must specify 'dtype=object' when creating the ndarray\n",
            "  return array(a, dtype, copy=False, order=order, subok=True)\n"
          ],
          "name": "stderr"
        }
      ]
    }
  ]
}