{
  "nbformat": 4,
  "nbformat_minor": 0,
  "metadata": {
    "colab": {
      "name": "L&GV_Ex4_Part1_ItemsFromPlants.ipynb",
      "provenance": [],
      "collapsed_sections": [],
      "authorship_tag": "ABX9TyPIoJaA9bI1QVoPz3ntnb/e",
      "include_colab_link": true
    },
    "kernelspec": {
      "name": "python3",
      "display_name": "Python 3"
    },
    "language_info": {
      "name": "python"
    }
  },
  "cells": [
    {
      "cell_type": "markdown",
      "metadata": {
        "id": "view-in-github",
        "colab_type": "text"
      },
      "source": [
        "<a href=\"https://colab.research.google.com/github/GLopezMUZH/Packing_and_Vehcicle_Routing/blob/main/L%26GV_Ex4_Part1_ItemsFromPlants.ipynb\" target=\"_parent\"><img src=\"https://colab.research.google.com/assets/colab-badge.svg\" alt=\"Open In Colab\"/></a>"
      ]
    },
    {
      "cell_type": "markdown",
      "metadata": {
        "id": "_2OSgqAYcPjS"
      },
      "source": [
        "### ETHZ - IVT - Logistik und Güterverkehr  SS2021\n",
        "\n",
        "# Assignment 4: Operating a logistics system - Part 1 - Planing items from plants \n",
        "\n",
        "\n",
        "\n",
        "*   Gabriela López Magaña\n",
        "*   Alexander Hoz\n",
        "*   Jackson Buckner\n",
        "\n",
        "01.06.2021"
      ]
    },
    {
      "cell_type": "code",
      "metadata": {
        "id": "0Viwvp-oM2QP"
      },
      "source": [
        "from scipy.io import loadmat\n",
        "from scipy.io import savemat\n",
        "import pandas as pd\n",
        "import numpy as np\n",
        "import matplotlib.pyplot as plt"
      ],
      "execution_count": 125,
      "outputs": []
    },
    {
      "cell_type": "code",
      "metadata": {
        "colab": {
          "base_uri": "https://localhost:8080/"
        },
        "id": "EKjQNB15NULQ",
        "outputId": "ee2a4b60-ecff-4733-fb09-8a657fbf25f9"
      },
      "source": [
        "from google.colab import drive\n",
        "drive.mount('/content/gdrive', force_remount=True)"
      ],
      "execution_count": null,
      "outputs": [
        {
          "output_type": "stream",
          "text": [
            "Mounted at /content/gdrive\n"
          ],
          "name": "stdout"
        }
      ]
    },
    {
      "cell_type": "markdown",
      "metadata": {
        "id": "57wLM-HejPIT"
      },
      "source": [
        "# Knapsack - dynamic programming"
      ]
    },
    {
      "cell_type": "code",
      "metadata": {
        "id": "NktqYi73YChU"
      },
      "source": [
        "# A Dynamic Programming based Python \n",
        "# Program for 0-1 Knapsack problem\n",
        "# code based on snap: https://codereview.stackexchange.com/questions/220450/python-program-for-0-1-knapsack-problem\n",
        "def knapsack(capacity, weights, values, print_matrix = False):\n",
        "    items = len(weights)\n",
        "\n",
        "    cap_profit_items_matrix = [[0] * (capacity + 1)]\n",
        "    for item_idx in range(items):\n",
        "        cap_profit_items_matrix.append(cap_profit_items_matrix[item_idx].copy())\n",
        "        for k in range(weights[item_idx], capacity + 1):\n",
        "            cap_profit_items_matrix[item_idx + 1][k] = max(cap_profit_items_matrix[item_idx][k], cap_profit_items_matrix[item_idx][k -weights[item_idx]] + values[item_idx])\n",
        "\n",
        "    if print_matrix:\n",
        "        print(cap_profit_items_matrix)\n",
        "\n",
        "    solution_value = cap_profit_items_matrix[items][capacity]\n",
        "    solution_weight = 0\n",
        "    taken_item = []\n",
        "    k = capacity\n",
        "    for item_idx in range(items, 0, -1):\n",
        "        # detects if item was included in solution\n",
        "        if cap_profit_items_matrix[item_idx][k] != cap_profit_items_matrix[item_idx - 1][k]:\n",
        "            taken_item.append(item_idx - 1)\n",
        "            k -= weights[item_idx - 1]\n",
        "            solution_weight += weights[item_idx - 1]\n",
        "\n",
        "    taken_item = taken_item[::-1]\n",
        "\n",
        "    return solution_value, solution_weight, taken_item"
      ],
      "execution_count": 53,
      "outputs": []
    },
    {
      "cell_type": "markdown",
      "metadata": {
        "id": "JO_7qV4qju4a"
      },
      "source": [
        "### Utility functions for Knapsack"
      ]
    },
    {
      "cell_type": "code",
      "metadata": {
        "id": "eMGRO_tvbKfY"
      },
      "source": [
        "def convertToIntList(someDict):\n",
        "    w1_arr = []\n",
        "    for element in someDict:\n",
        "        w1_arr.append(element[0])\n",
        "    return w1_arr"
      ],
      "execution_count": null,
      "outputs": []
    },
    {
      "cell_type": "code",
      "metadata": {
        "id": "BlrI-qJyeFnJ"
      },
      "source": [
        "def printSelectedItems(w_arr, p_arr, selectedIndexes):\n",
        "    plant1_selected_weights = []\n",
        "    plant1_selected_values = []\n",
        "    for i in range(len(w_arr)):\n",
        "        if (i in selectedIndexes):\n",
        "            plant1_selected_weights.append(w_arr[i])\n",
        "            plant1_selected_values.append(p_arr[i])\n",
        "\n",
        "    plant1_selected_weights = np.array(plant1_selected_weights)\n",
        "    plant1_selected_values = np.array(plant1_selected_values)\n",
        "\n",
        "    print(\"Selected weights: \", plant1_selected_weights)\n",
        "    print(\"Sum weights: \", np.sum(plant1_selected_weights))\n",
        "\n",
        "    print(\"Selected values: \",plant1_selected_values)\n",
        "    print(\"Sum values: \", np.sum(plant1_selected_values))"
      ],
      "execution_count": null,
      "outputs": []
    },
    {
      "cell_type": "code",
      "metadata": {
        "id": "hwYSTEdcLsny"
      },
      "source": [
        "#make the selected items not suitable from w and p arrays\n",
        "def invalidate_selected_items(w_arr, p_arr, selectedIndexes, excededWeight):\n",
        "    updated_weights = []\n",
        "    updated_values = []\n",
        "    for i in range(len(w_arr)):\n",
        "        if (i not in selectedIndexes):\n",
        "            updated_weights.append(w_arr[i])\n",
        "            updated_values.append(p_arr[i])\n",
        "        else:\n",
        "            updated_weights.append(excededWeight)\n",
        "            updated_values.append(-1)\n",
        "    return updated_weights, updated_values\n"
      ],
      "execution_count": 68,
      "outputs": []
    },
    {
      "cell_type": "markdown",
      "metadata": {
        "id": "7vSWLmCHUCSl"
      },
      "source": [
        "# Bin Packing Problem - Best Fit and Best Fit Decreasing"
      ]
    },
    {
      "cell_type": "code",
      "metadata": {
        "id": "eVxcS6BG5y3k"
      },
      "source": [
        "# Returns number of bins required using best fit online algorithm\n",
        "# code based on https://www.geeksforgeeks.org/bin-packing-problem-minimize-number-of-used-bins/\n",
        "def bestFit(weights, n, c):\n",
        "    # Initialize result (Count of bins)\n",
        "    res = 0\n",
        " \n",
        "    # Create an array to store\n",
        "    # remaining space in bins\n",
        "    # there can be at most n bins\n",
        "    bin_rem = [0]*n\n",
        "    trucks_items = [[] for i in range(n)]\n",
        "    trucks_items_weights = [[] for i in range(n)]\n",
        " \n",
        "    # Place items one by one\n",
        "    for i in range(n):\n",
        "        #print(\"item i= \", i, \", weight = \", weights[i])\n",
        "\n",
        "        # Find the first bin that can accommodate weights[i]\n",
        "        j = 0\n",
        "         \n",
        "        # Initialize minimum space left and index of best bin\n",
        "        min = c + 1\n",
        "        bi = 0\n",
        " \n",
        "        # loop over trucks and update which is the actual minimum rest space, at the end of the comparison one gets the index (bi) of the truck with the minimum rest place\n",
        "        for j in range(res):\n",
        "            if (bin_rem[j] >= weights[i] and bin_rem[j] - weights[i] < min):\n",
        "                bi = j\n",
        "                min = bin_rem[j] - weights[i]\n",
        "             \n",
        "        # If no bin could accommodate weights[i], create a new bin\n",
        "        if (min == c + 1):\n",
        "            bin_rem[res] = c - weights[i]\n",
        "            #print(\"Create truck. Idx =  \", res, \", item idx = \", i, \", weight = \", weights[i])\n",
        "            trucks_items[res].append(i)\n",
        "            trucks_items_weights[res].append(weights[i])\n",
        "            res += 1\n",
        "        else: # Assign the item to best bin\n",
        "            bin_rem[bi] -= weights[i]\n",
        "            #print(\"Assign to best truck. Idx =  \", bi, \", item idx = \", i, \", weight = \", weights[i])\n",
        "            trucks_items[bi].append(i)\n",
        "            trucks_items_weights[bi].append(weights[i])\n",
        "\n",
        "        # return only used bins\n",
        "        t_i_w = []\n",
        "        for i in range(n):\n",
        "            if sum(trucks_items_weights[i]) > 0:\n",
        "                t_i_w.append(trucks_items_weights[i])\n",
        "\n",
        "        # return only used bins\n",
        "        t_i = []\n",
        "        for i in range(n):\n",
        "            if sum(trucks_items[i]) > 0:\n",
        "                 t_i.append(trucks_items[i])\n",
        "\n",
        "    return res, t_i, t_i_w\n",
        "     \n",
        "# This code is contributed by Rajput-Ji + GLM alterations"
      ],
      "execution_count": 112,
      "outputs": []
    },
    {
      "cell_type": "code",
      "metadata": {
        "id": "yWPBO6iJ4wHz"
      },
      "source": [
        "def bestFitDecreasing(unordered_weights, n, c):\n",
        "    # Sort by weight decreasing\n",
        "    weights = np.sort(unordered_weights)[::-1]\n",
        "\n",
        "    return bestFit(weights, n, c)\n"
      ],
      "execution_count": 94,
      "outputs": []
    },
    {
      "cell_type": "markdown",
      "metadata": {
        "id": "bxyykzYEanmg"
      },
      "source": [
        "### Utility functions for Bin Packing"
      ]
    },
    {
      "cell_type": "code",
      "metadata": {
        "id": "WDtQLiFOandV"
      },
      "source": [
        "# map to get the index of the weights\n",
        "def getIndexesForWeights(w_arr):\n",
        "    d = dict(enumerate(np.array(w_arr).flatten(), 0))\n",
        "    return d\n",
        "\n",
        "\n",
        "# returns the index of the items according to the given weights in the trucks\n",
        "def get_item_index_in_trucks(original_weights_arr, nr_trucks, trucks_items_weights):\n",
        "    dict_indexes_weights =  getIndexesForWeights(original_weights_arr)\n",
        "    trucks_items_indexes = [[] for i in range(nr_trucks)]\n",
        "    val_list = list(dict_indexes_weights.values())\n",
        "\n",
        "    truk_index = 0\n",
        "\n",
        "    for ti in trucks_items_weights:\n",
        "        if sum(ti) > 0:\n",
        "            for e in ti:\n",
        "                position = val_list.index(e)\n",
        "                dict_indexes_weights[position] = -1\n",
        "                trucks_items_indexes[truk_index].append(position)\n",
        "                #print(\"truck index = \", truk_index, \", weight = \", e, \", pos_in_array= \", position)\n",
        "                val_list = list(dict_indexes_weights.values())\n",
        "        truk_index += 1\n",
        "    return trucks_items_indexes\n",
        "\n",
        "def print_truck_item_weights(trucks_items_weights):\n",
        "    print(\"Item weights in each truck: \")\n",
        "    i = 0\n",
        "    for ti in trucks_items_weights:\n",
        "        if sum(ti) > 0:\n",
        "            print('Truck index ', i, ', weight :', sum(ti), \", items: \",ti)\n",
        "            i += 1\n",
        "\n"
      ],
      "execution_count": 104,
      "outputs": []
    },
    {
      "cell_type": "markdown",
      "metadata": {
        "id": "SpMeRCb2kEni"
      },
      "source": [
        "# Examples"
      ]
    },
    {
      "cell_type": "markdown",
      "metadata": {
        "id": "wf-kLiD1S3EE"
      },
      "source": [
        "### Knapsack problem"
      ]
    },
    {
      "cell_type": "code",
      "metadata": {
        "id": "vNT3SM4lUunH",
        "colab": {
          "base_uri": "https://localhost:8080/"
        },
        "outputId": "1b83f6df-6aa3-4920-f0fe-bf54e366602f"
      },
      "source": [
        "# Knapsack example\n",
        "values = [60, 100, 120, 200]\n",
        "weights = [10, 20, 30, 30]\n",
        "capacity = 50\n",
        "items = len(values)\n",
        "\n",
        "ks_ex = knapsack(capacity, weights, values, True)\n",
        "\n",
        "print(ks_ex)\n",
        "printSelectedItems(weights, values, ks_ex[2])"
      ],
      "execution_count": 54,
      "outputs": [
        {
          "output_type": "stream",
          "text": [
            "[[0, 0, 0, 0, 0, 0, 0, 0, 0, 0, 0, 0, 0, 0, 0, 0, 0, 0, 0, 0, 0, 0, 0, 0, 0, 0, 0, 0, 0, 0, 0, 0, 0, 0, 0, 0, 0, 0, 0, 0, 0, 0, 0, 0, 0, 0, 0, 0, 0, 0, 0], [0, 0, 0, 0, 0, 0, 0, 0, 0, 0, 60, 60, 60, 60, 60, 60, 60, 60, 60, 60, 60, 60, 60, 60, 60, 60, 60, 60, 60, 60, 60, 60, 60, 60, 60, 60, 60, 60, 60, 60, 60, 60, 60, 60, 60, 60, 60, 60, 60, 60, 60], [0, 0, 0, 0, 0, 0, 0, 0, 0, 0, 60, 60, 60, 60, 60, 60, 60, 60, 60, 60, 100, 100, 100, 100, 100, 100, 100, 100, 100, 100, 160, 160, 160, 160, 160, 160, 160, 160, 160, 160, 160, 160, 160, 160, 160, 160, 160, 160, 160, 160, 160], [0, 0, 0, 0, 0, 0, 0, 0, 0, 0, 60, 60, 60, 60, 60, 60, 60, 60, 60, 60, 100, 100, 100, 100, 100, 100, 100, 100, 100, 100, 160, 160, 160, 160, 160, 160, 160, 160, 160, 160, 180, 180, 180, 180, 180, 180, 180, 180, 180, 180, 220], [0, 0, 0, 0, 0, 0, 0, 0, 0, 0, 60, 60, 60, 60, 60, 60, 60, 60, 60, 60, 100, 100, 100, 100, 100, 100, 100, 100, 100, 100, 200, 200, 200, 200, 200, 200, 200, 200, 200, 200, 260, 260, 260, 260, 260, 260, 260, 260, 260, 260, 300]]\n",
            "(300, 50, [1, 3])\n",
            "Selected weights:  [20 30]\n",
            "Sum weights:  50\n",
            "Selected values:  [100 200]\n",
            "Sum values:  300\n"
          ],
          "name": "stdout"
        }
      ]
    },
    {
      "cell_type": "code",
      "metadata": {
        "colab": {
          "base_uri": "https://localhost:8080/"
        },
        "id": "iLcDuvtmmqaj",
        "outputId": "618ac601-39b1-4810-e61a-2e22b2ef9366"
      },
      "source": [
        "# Knapsack example\n",
        "values = [200, 100, 60, 120]\n",
        "weights = [30, 20, 10, 30]\n",
        "capacity = 50\n",
        "items = len(values)\n",
        "\n",
        "ks_ex = knapsack(capacity, weights, values, True)\n",
        "\n",
        "print(ks_ex)\n",
        "printSelectedItems(weights, values, ks_ex[2])"
      ],
      "execution_count": 55,
      "outputs": [
        {
          "output_type": "stream",
          "text": [
            "[[0, 0, 0, 0, 0, 0, 0, 0, 0, 0, 0, 0, 0, 0, 0, 0, 0, 0, 0, 0, 0, 0, 0, 0, 0, 0, 0, 0, 0, 0, 0, 0, 0, 0, 0, 0, 0, 0, 0, 0, 0, 0, 0, 0, 0, 0, 0, 0, 0, 0, 0], [0, 0, 0, 0, 0, 0, 0, 0, 0, 0, 0, 0, 0, 0, 0, 0, 0, 0, 0, 0, 0, 0, 0, 0, 0, 0, 0, 0, 0, 0, 200, 200, 200, 200, 200, 200, 200, 200, 200, 200, 200, 200, 200, 200, 200, 200, 200, 200, 200, 200, 200], [0, 0, 0, 0, 0, 0, 0, 0, 0, 0, 0, 0, 0, 0, 0, 0, 0, 0, 0, 0, 100, 100, 100, 100, 100, 100, 100, 100, 100, 100, 200, 200, 200, 200, 200, 200, 200, 200, 200, 200, 200, 200, 200, 200, 200, 200, 200, 200, 200, 200, 300], [0, 0, 0, 0, 0, 0, 0, 0, 0, 0, 60, 60, 60, 60, 60, 60, 60, 60, 60, 60, 100, 100, 100, 100, 100, 100, 100, 100, 100, 100, 200, 200, 200, 200, 200, 200, 200, 200, 200, 200, 260, 260, 260, 260, 260, 260, 260, 260, 260, 260, 300], [0, 0, 0, 0, 0, 0, 0, 0, 0, 0, 60, 60, 60, 60, 60, 60, 60, 60, 60, 60, 100, 100, 100, 100, 100, 100, 100, 100, 100, 100, 200, 200, 200, 200, 200, 200, 200, 200, 200, 200, 260, 260, 260, 260, 260, 260, 260, 260, 260, 260, 300]]\n",
            "(300, 50, [0, 1])\n",
            "Selected weights:  [30 20]\n",
            "Sum weights:  50\n",
            "Selected values:  [200 100]\n",
            "Sum values:  300\n"
          ],
          "name": "stdout"
        }
      ]
    },
    {
      "cell_type": "markdown",
      "metadata": {
        "id": "CoDteAOLVKm9"
      },
      "source": [
        "### Bin Packing - Best Fit Decreasing"
      ]
    },
    {
      "cell_type": "code",
      "metadata": {
        "colab": {
          "base_uri": "https://localhost:8080/"
        },
        "id": "eDsN11Wc66Ma",
        "outputId": "239c2290-cb0c-40d0-db8e-f20ddb3d2b08"
      },
      "source": [
        "# 1D Bin-Packing example - Best Fit decreasing\n",
        "weights = [2, 5, 4, 7, 1, 3, 8]\n",
        "c = 10\n",
        "n = len(weights)\n",
        "nr_trucks = 0\n",
        "\n",
        "nr_trucks, trucks_items,trucks_items_weights = bestFitDecreasing(weights, n, c)\n",
        "\n",
        "print(\"Number of bins required in Next Fit :\", nr_trucks)\n",
        "print(\"Item index in truck:       \",trucks_items)\n",
        "print(\"Weights of items in truck: \",trucks_items_weights)"
      ],
      "execution_count": null,
      "outputs": [
        {
          "output_type": "stream",
          "text": [
            "Number of bins required in Next Fit : 3\n",
            "Item index in truck:        [[0, 5], [1, 4], [2, 3, 6], [], [], [], []]\n",
            "Weights of items in truck:  [[8, 2], [7, 3], [5, 4, 1], [], [], [], []]\n"
          ],
          "name": "stdout"
        }
      ]
    },
    {
      "cell_type": "markdown",
      "metadata": {
        "id": "gQG7S536j1WR"
      },
      "source": [
        "# Ex 4 - Production plants items"
      ]
    },
    {
      "cell_type": "code",
      "metadata": {
        "id": "htnAuF9tNU6f",
        "colab": {
          "base_uri": "https://localhost:8080/"
        },
        "outputId": "1c68c292-c60a-4887-a6a7-8e20d94f70dd"
      },
      "source": [
        "# read the input data\n",
        "file1_dir_path = '/content/gdrive/MyDrive/UZH_varios/ETH_L&GV_Ex4/inputDataAssignment.mat'\n",
        "file1_dict = loadmat(file1_dir_path)\n",
        "#print(file1_dict)\n",
        "# print(file1_dict['p3'])\n",
        "\n",
        "W_val = file1_dict.get(\"W\")[0][0]\n",
        "Z_val = file1_dict.get(\"Z\")[0][0]\n",
        "print(\"Weight capacity of each truck: \", W_val)\n",
        "print(\"Cost of renting a truck: \",Z_val)\n",
        "\n",
        "w1_arr = convertToIntList(file1_dict['w1'])\n",
        "w2_arr = convertToIntList(file1_dict['w2'])\n",
        "w3_arr = convertToIntList(file1_dict['w3'])\n",
        "p1_arr = convertToIntList(file1_dict['p1'])\n",
        "p2_arr = convertToIntList(file1_dict['p2'])\n",
        "p3_arr = convertToIntList(file1_dict['p3'])"
      ],
      "execution_count": 56,
      "outputs": [
        {
          "output_type": "stream",
          "text": [
            "Weight capacity of each truck:  100\n",
            "Cost of renting a truck:  32\n"
          ],
          "name": "stdout"
        }
      ]
    },
    {
      "cell_type": "code",
      "metadata": {
        "id": "TXazQ2DBceB6"
      },
      "source": [
        "print(len(w3_arr))\n",
        "print(w3_arr)\n",
        "print(len(w3_arr))\n",
        "print(p3_arr)"
      ],
      "execution_count": null,
      "outputs": []
    },
    {
      "cell_type": "markdown",
      "metadata": {
        "id": "OS7xlXKHJrP5"
      },
      "source": [
        "## Plant 1 - 1DKP"
      ]
    },
    {
      "cell_type": "code",
      "metadata": {
        "colab": {
          "base_uri": "https://localhost:8080/"
        },
        "id": "LESCgMw9k9Z9",
        "outputId": "25d92dcd-838f-4252-d00c-54c3d9097c5c"
      },
      "source": [
        "print('There are ', len(w1_arr),' items, weighting ', sum(w1_arr),', with the total value of ', sum(p1_arr),'.')"
      ],
      "execution_count": 57,
      "outputs": [
        {
          "output_type": "stream",
          "text": [
            "There are  20  items, weighting  379 , with the total value of  728 .\n"
          ],
          "name": "stdout"
        }
      ]
    },
    {
      "cell_type": "code",
      "metadata": {
        "colab": {
          "base_uri": "https://localhost:8080/"
        },
        "id": "iC7cL9-hPb1N",
        "outputId": "afbdb59f-d598-4c1f-c1fe-df8bea869966"
      },
      "source": [
        "# Calculate for plant 1 - one truck\n",
        "plant1 = knapsack(W_val, w1_arr, p1_arr)\n",
        "print(plant1)\n",
        "print(plant1[2])"
      ],
      "execution_count": 63,
      "outputs": [
        {
          "output_type": "stream",
          "text": [
            "(260, 100, [0, 1, 4, 9, 12])\n",
            "[0, 1, 4, 9, 12]\n"
          ],
          "name": "stdout"
        }
      ]
    },
    {
      "cell_type": "code",
      "metadata": {
        "colab": {
          "base_uri": "https://localhost:8080/"
        },
        "id": "uL4rmdp6icPm",
        "outputId": "ff1d01a4-1316-48af-8b80-166b23e76b18"
      },
      "source": [
        "printSelectedItems(w1_arr, p1_arr, plant1[2])"
      ],
      "execution_count": 59,
      "outputs": [
        {
          "output_type": "stream",
          "text": [
            "Selected weights:  [20 28 13 24 15]\n",
            "Sum weights:  100\n",
            "Selected values:  [48 77 33 61 41]\n",
            "Sum values:  260\n"
          ],
          "name": "stdout"
        }
      ]
    },
    {
      "cell_type": "markdown",
      "metadata": {
        "id": "_VhjqjZcJ58J"
      },
      "source": [
        "## Plant 2- 1DKP in two stages"
      ]
    },
    {
      "cell_type": "code",
      "metadata": {
        "colab": {
          "base_uri": "https://localhost:8080/"
        },
        "id": "rwsnTuQvyMGd",
        "outputId": "404c9cbc-8489-4b9b-b259-dda87207a1f2"
      },
      "source": [
        "print('There are ', len(w2_arr),' items, weighting ', sum(w2_arr),', with the total value of ', sum(p2_arr),'.')"
      ],
      "execution_count": 69,
      "outputs": [
        {
          "output_type": "stream",
          "text": [
            "There are  27  items, weighting  574 , with the total value of  845 .\n"
          ],
          "name": "stdout"
        }
      ]
    },
    {
      "cell_type": "code",
      "metadata": {
        "colab": {
          "base_uri": "https://localhost:8080/"
        },
        "id": "PkNBSEzBjjj-",
        "outputId": "a412b32a-5613-4f22-acfc-afed277047c6"
      },
      "source": [
        "# Calculate for plant 2 - two trucks\n",
        "# solution 2 - calc first truc, reduce arrays, calc 2nd truck\n",
        "plant2_1 = knapsack(W_val, w2_arr, p2_arr)\n",
        "print(plant2_1)"
      ],
      "execution_count": 70,
      "outputs": [
        {
          "output_type": "stream",
          "text": [
            "(204, 98, [1, 3, 9, 20, 24])\n"
          ],
          "name": "stdout"
        }
      ]
    },
    {
      "cell_type": "code",
      "metadata": {
        "colab": {
          "base_uri": "https://localhost:8080/"
        },
        "id": "QWC_-K8mjujw",
        "outputId": "2f31fce0-bac7-4b34-ed8a-9fef445eac06"
      },
      "source": [
        "printSelectedItems(w2_arr, p2_arr, plant2_1[2])"
      ],
      "execution_count": 71,
      "outputs": [
        {
          "output_type": "stream",
          "text": [
            "Selected weights:  [29 30 14 13 12]\n",
            "Sum weights:  98\n",
            "Selected values:  [61 61 29 28 25]\n",
            "Sum values:  204\n"
          ],
          "name": "stdout"
        }
      ]
    },
    {
      "cell_type": "code",
      "metadata": {
        "colab": {
          "base_uri": "https://localhost:8080/"
        },
        "id": "ow-ji1o0kmjN",
        "outputId": "32020fd9-0b84-473b-cc3a-52a6c23ea858"
      },
      "source": [
        "print(w2_arr)\n",
        "print(p2_arr)\n",
        "# we set the values of assigned items to -1 and weights to overweight so that they are not selected but the index of the array is preserved\n",
        "n_w2_arr, n_p2_arr = invalidate_selected_items(w2_arr, p2_arr, plant2_1[2], W_val*10)\n",
        "print(n_w2_arr)\n",
        "print(n_p2_arr)"
      ],
      "execution_count": 72,
      "outputs": [
        {
          "output_type": "stream",
          "text": [
            "[35, 29, 18, 30, 13, 22, 33, 18, 18, 14, 11, 27, 16, 17, 23, 12, 25, 14, 25, 28, 13, 21, 28, 21, 12, 24, 27]\n",
            "[46, 61, 26, 61, 8, 14, 61, 20, 13, 29, 11, 47, 27, 34, 35, 21, 26, 12, 50, 33, 28, 33, 43, 13, 25, 29, 39]\n",
            "[35, 1000, 18, 1000, 13, 22, 33, 18, 18, 1000, 11, 27, 16, 17, 23, 12, 25, 14, 25, 28, 1000, 21, 28, 21, 1000, 24, 27]\n",
            "[46, -1, 26, -1, 8, 14, 61, 20, 13, -1, 11, 47, 27, 34, 35, 21, 26, 12, 50, 33, -1, 33, 43, 13, -1, 29, 39]\n"
          ],
          "name": "stdout"
        }
      ]
    },
    {
      "cell_type": "code",
      "metadata": {
        "colab": {
          "base_uri": "https://localhost:8080/"
        },
        "id": "p3rx4QuO0SpW",
        "outputId": "1f33d1d5-721d-4806-bbe9-d378ef9dca98"
      },
      "source": [
        "plant2_2 = knapsack(W_val, n_w2_arr, n_p2_arr)\n",
        "print(plant2_2)\n",
        "printSelectedItems(n_w2_arr, n_p2_arr, plant2_2[2])"
      ],
      "execution_count": 73,
      "outputs": [
        {
          "output_type": "stream",
          "text": [
            "(180, 98, [6, 13, 14, 18])\n",
            "Selected weights:  [33 17 23 25]\n",
            "Sum weights:  98\n",
            "Selected values:  [61 34 35 50]\n",
            "Sum values:  180\n"
          ],
          "name": "stdout"
        }
      ]
    },
    {
      "cell_type": "markdown",
      "metadata": {
        "id": "41OcbjvsSdj8"
      },
      "source": [
        "## Plant 3 - 1D Bin-Packing Problem"
      ]
    },
    {
      "cell_type": "code",
      "metadata": {
        "colab": {
          "base_uri": "https://localhost:8080/"
        },
        "id": "Kq6sG5d43D-E",
        "outputId": "40dd073e-28e2-489b-e381-4b49c198b6f3"
      },
      "source": [
        "print('There are ', len(w3_arr),' items, weighting ', sum(w3_arr),', with the total value of ', sum(p3_arr),'.')"
      ],
      "execution_count": 74,
      "outputs": [
        {
          "output_type": "stream",
          "text": [
            "There are  60  items, weighting  1865 , with the total value of  1098.4515079796017 .\n"
          ],
          "name": "stdout"
        }
      ]
    },
    {
      "cell_type": "code",
      "metadata": {
        "colab": {
          "base_uri": "https://localhost:8080/"
        },
        "id": "_TFRWUmD5Pk8",
        "outputId": "94b72a67-bad6-438f-c072-dc3268db1d88"
      },
      "source": [
        "## Plant 3 - 1D Bin-Packing Problem \n",
        "# bring all items in as less as possible trucks\n",
        "print(\"Min nr of trucks if continuous (LB): \",np.sum(np.array(w3_arr))/W_val)"
      ],
      "execution_count": null,
      "outputs": [
        {
          "output_type": "stream",
          "text": [
            "Min nr of trucks if continuous (LB):  18.65\n"
          ],
          "name": "stdout"
        }
      ]
    },
    {
      "cell_type": "markdown",
      "metadata": {
        "id": "cW8nM8IS5CPc"
      },
      "source": [
        "## Best-Fit\n"
      ]
    },
    {
      "cell_type": "code",
      "metadata": {
        "colab": {
          "base_uri": "https://localhost:8080/"
        },
        "id": "5YVvuabi5P1D",
        "outputId": "d791cf84-9408-45da-d06d-27a3cdbc4c8c"
      },
      "source": [
        "print(w3_arr)"
      ],
      "execution_count": 79,
      "outputs": [
        {
          "output_type": "stream",
          "text": [
            "[29, 24, 44, 34, 18, 35, 27, 33, 43, 28, 44, 36, 18, 44, 38, 46, 22, 21, 45, 38, 19, 39, 39, 44, 38, 21, 18, 18, 18, 25, 42, 33, 34, 42, 21, 26, 34, 46, 34, 18, 41, 24, 41, 29, 43, 39, 34, 21, 19, 21, 19, 21, 24, 38, 34, 18, 20, 46, 34, 23]\n"
          ],
          "name": "stdout"
        }
      ]
    },
    {
      "cell_type": "code",
      "metadata": {
        "colab": {
          "base_uri": "https://localhost:8080/"
        },
        "id": "uP_87C_95GL8",
        "outputId": "3af9c95d-4edb-4d3d-f1f5-c90e93557dc7"
      },
      "source": [
        "n = len(w3_arr)\n",
        "nr_trucks = 0\n",
        "trucks_items = []\n",
        "trucks_items_weights = []\n",
        "\n",
        "nr_trucks, trucks_items, trucks_items_weights = bestFit(w3_arr, n, W_val)\n",
        "\n",
        "print(\"Number of trucks required :\", nr_trucks)"
      ],
      "execution_count": 131,
      "outputs": [
        {
          "output_type": "stream",
          "text": [
            "Number of trucks required : 21\n"
          ],
          "name": "stdout"
        }
      ]
    },
    {
      "cell_type": "code",
      "metadata": {
        "colab": {
          "base_uri": "https://localhost:8080/"
        },
        "id": "PyvmbBp47LDy",
        "outputId": "eb1863f9-13f5-46a4-8207-a5455b7a7edf"
      },
      "source": [
        "print_truck_item_weights(trucks_items_weights)"
      ],
      "execution_count": 132,
      "outputs": [
        {
          "output_type": "stream",
          "text": [
            "Item weights in each truck: \n",
            "Truck index  0 , weight : 97 , items:  [29, 24, 44]\n",
            "Truck index  1 , weight : 87 , items:  [34, 18, 35]\n",
            "Truck index  2 , weight : 88 , items:  [27, 33, 28]\n",
            "Truck index  3 , weight : 87 , items:  [43, 44]\n",
            "Truck index  4 , weight : 98 , items:  [36, 18, 44]\n",
            "Truck index  5 , weight : 84 , items:  [38, 46]\n",
            "Truck index  6 , weight : 88 , items:  [22, 21, 45]\n",
            "Truck index  7 , weight : 96 , items:  [38, 19, 39]\n",
            "Truck index  8 , weight : 83 , items:  [39, 44]\n",
            "Truck index  9 , weight : 95 , items:  [38, 21, 18, 18]\n",
            "Truck index  10 , weight : 85 , items:  [18, 25, 42]\n",
            "Truck index  11 , weight : 88 , items:  [33, 34, 21]\n",
            "Truck index  12 , weight : 97 , items:  [42, 26, 29]\n",
            "Truck index  13 , weight : 98 , items:  [34, 46, 18]\n",
            "Truck index  14 , weight : 99 , items:  [34, 41, 24]\n",
            "Truck index  15 , weight : 84 , items:  [41, 43]\n",
            "Truck index  16 , weight : 94 , items:  [39, 34, 21]\n",
            "Truck index  17 , weight : 98 , items:  [19, 21, 19, 21, 18]\n",
            "Truck index  18 , weight : 96 , items:  [24, 38, 34]\n",
            "Truck index  19 , weight : 100 , items:  [20, 46, 34]\n",
            "Truck index  20 , weight : 23 , items:  [23]\n"
          ],
          "name": "stdout"
        }
      ]
    },
    {
      "cell_type": "code",
      "metadata": {
        "colab": {
          "base_uri": "https://localhost:8080/",
          "height": 627
        },
        "id": "bJvbtWyd8m82",
        "outputId": "5b6c7a2b-2ba9-49e2-e85d-947ac3f55285"
      },
      "source": [
        "df = pd.DataFrame(trucks_items_weights)\n",
        "df = df.fillna(0)\n",
        "df.plot(kind='bar', stacked=True,title='Used capacities by items in trucks', figsize=(10,10), legend = False)"
      ],
      "execution_count": 133,
      "outputs": [
        {
          "output_type": "execute_result",
          "data": {
            "text/plain": [
              "<matplotlib.axes._subplots.AxesSubplot at 0x7fa72c9a5910>"
            ]
          },
          "metadata": {
            "tags": []
          },
          "execution_count": 133
        },
        {
          "output_type": "display_data",
          "data": {
            "image/png": "[encoded data removed]",
            "text/plain": [
              "<Figure size 720x720 with 1 Axes>"
            ]
          },
          "metadata": {
            "tags": [],
            "needs_background": "light"
          }
        }
      ]
    },
    {
      "cell_type": "markdown",
      "metadata": {
        "id": "XOthvCUO4Xup"
      },
      "source": [
        "## Best-Fit Decreasing"
      ]
    },
    {
      "cell_type": "code",
      "metadata": {
        "colab": {
          "base_uri": "https://localhost:8080/"
        },
        "id": "YN3IdF1vG2rk",
        "outputId": "df825a4c-3004-4b7a-b814-82369917a416"
      },
      "source": [
        "n = len(w3_arr)\n",
        "nr_trucks, trucks_items, trucks_items_weights = bestFitDecreasing(w3_arr, n, W_val)\n",
        "\n",
        "print(\"Number of trucks required :\", nr_trucks)"
      ],
      "execution_count": 134,
      "outputs": [
        {
          "output_type": "stream",
          "text": [
            "Number of trucks required : 20\n"
          ],
          "name": "stdout"
        }
      ]
    },
    {
      "cell_type": "code",
      "metadata": {
        "colab": {
          "base_uri": "https://localhost:8080/"
        },
        "id": "TYzissztYBsL",
        "outputId": "e13e3e5d-1687-44f5-b0f8-33438235f584"
      },
      "source": [
        "print_truck_item_weights(trucks_items_weights)"
      ],
      "execution_count": 135,
      "outputs": [
        {
          "output_type": "stream",
          "text": [
            "Item weights in each truck: \n",
            "Truck index  0 , weight : 92 , items:  [46, 46]\n",
            "Truck index  1 , weight : 91 , items:  [46, 45]\n",
            "Truck index  2 , weight : 88 , items:  [44, 44]\n",
            "Truck index  3 , weight : 88 , items:  [44, 44]\n",
            "Truck index  4 , weight : 86 , items:  [43, 43]\n",
            "Truck index  5 , weight : 84 , items:  [42, 42]\n",
            "Truck index  6 , weight : 100 , items:  [41, 41, 18]\n",
            "Truck index  7 , weight : 100 , items:  [39, 39, 22]\n",
            "Truck index  8 , weight : 100 , items:  [39, 38, 23]\n",
            "Truck index  9 , weight : 100 , items:  [38, 38, 24]\n",
            "Truck index  10 , weight : 100 , items:  [38, 36, 26]\n",
            "Truck index  11 , weight : 98 , items:  [35, 34, 29]\n",
            "Truck index  12 , weight : 97 , items:  [34, 34, 29]\n",
            "Truck index  13 , weight : 96 , items:  [34, 34, 28]\n",
            "Truck index  14 , weight : 95 , items:  [34, 34, 27]\n",
            "Truck index  15 , weight : 91 , items:  [33, 33, 25]\n",
            "Truck index  16 , weight : 90 , items:  [24, 24, 21, 21]\n",
            "Truck index  17 , weight : 84 , items:  [21, 21, 21, 21]\n",
            "Truck index  18 , weight : 95 , items:  [20, 19, 19, 19, 18]\n",
            "Truck index  19 , weight : 90 , items:  [18, 18, 18, 18, 18]\n"
          ],
          "name": "stdout"
        }
      ]
    },
    {
      "cell_type": "code",
      "metadata": {
        "colab": {
          "base_uri": "https://localhost:8080/",
          "height": 627
        },
        "id": "q3tUS9HGBB54",
        "outputId": "0acafa7e-03a1-4e60-f587-2a7d248b045c"
      },
      "source": [
        "df = pd.DataFrame(trucks_items_weights)\n",
        "df = df.fillna(0)\n",
        "df.plot(kind='bar', stacked=True,title='Used capacities by items in trucks', figsize=(10,10), legend = False)"
      ],
      "execution_count": 136,
      "outputs": [
        {
          "output_type": "execute_result",
          "data": {
            "text/plain": [
              "<matplotlib.axes._subplots.AxesSubplot at 0x7fa72c798d90>"
            ]
          },
          "metadata": {
            "tags": []
          },
          "execution_count": 136
        },
        {
          "output_type": "display_data",
          "data": {
            "image/png": "[encoded data removed]",
            "text/plain": [
              "<Figure size 720x720 with 1 Axes>"
            ]
          },
          "metadata": {
            "tags": [],
            "needs_background": "light"
          }
        }
      ]
    },
    {
      "cell_type": "code",
      "metadata": {
        "id": "tAT28ebCS8QQ"
      },
      "source": [
        "# get the item indexes for the given weights in the trucks\n",
        "trucks_items_indexes = get_item_index_in_trucks(w3_arr, nr_trucks, trucks_items_weights)"
      ],
      "execution_count": 137,
      "outputs": []
    },
    {
      "cell_type": "code",
      "metadata": {
        "colab": {
          "base_uri": "https://localhost:8080/"
        },
        "id": "Lc3pnWXUBJ_m",
        "outputId": "2c02523a-6e71-4285-ea57-ab0c537c571a"
      },
      "source": [
        "trucks_items_indexes"
      ],
      "execution_count": 138,
      "outputs": [
        {
          "output_type": "execute_result",
          "data": {
            "text/plain": [
              "[[15, 37],\n",
              " [57, 18],\n",
              " [2, 10],\n",
              " [13, 23],\n",
              " [8, 44],\n",
              " [30, 33],\n",
              " [40, 42, 4],\n",
              " [21, 22, 16],\n",
              " [45, 14, 59],\n",
              " [19, 24, 1],\n",
              " [53, 11, 35],\n",
              " [5, 3, 0],\n",
              " [32, 36, 43],\n",
              " [38, 46, 9],\n",
              " [54, 58, 6],\n",
              " [7, 31, 29],\n",
              " [41, 52, 17, 25],\n",
              " [34, 47, 49, 51],\n",
              " [56, 20, 48, 50, 12],\n",
              " [26, 27, 28, 39, 55]]"
            ]
          },
          "metadata": {
            "tags": []
          },
          "execution_count": 138
        }
      ]
    }
  ]
}